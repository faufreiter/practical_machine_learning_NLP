{
 "cells": [
  {
   "cell_type": "markdown",
   "id": "637b4aa0-6c19-4537-9944-28382053e3ef",
   "metadata": {},
   "source": [
    "# Trying NLP"
   ]
  },
  {
   "cell_type": "code",
   "execution_count": null,
   "id": "cd5610e6-7db9-48ec-be16-a8321e6153f0",
   "metadata": {},
   "outputs": [],
   "source": []
  },
  {
   "cell_type": "markdown",
   "id": "26527e32-c41a-4d30-8974-17238513901d",
   "metadata": {},
   "source": [
    "NLP tutorials \n",
    "* https://towardsdatascience.com/how-to-use-nlp-in-python-a-practical-step-by-step-example-bd82ca2d2e1e\n",
    "* https://towardsdatascience.com/gentle-start-to-natural-language-processing-using-python-6e46c07addf3"
   ]
  },
  {
   "cell_type": "markdown",
   "id": "f633f9a8-6abf-4858-8579-5b4bee1b6462",
   "metadata": {},
   "source": [
    "NLP - Packages\n",
    "* https://towardsdatascience.com/4-top-python-packages-to-learn-nlp-cf7216730426\n",
    "* NLTK (Natural Language Toolkit) https://www.nltk.org/\n"
   ]
  },
  {
   "cell_type": "code",
   "execution_count": null,
   "id": "f260a3a3-0461-43d3-b2ae-42cbdbd0a32a",
   "metadata": {},
   "outputs": [],
   "source": []
  },
  {
   "cell_type": "code",
   "execution_count": null,
   "id": "cf3eadfa-405b-4358-9296-c568912494ef",
   "metadata": {},
   "outputs": [],
   "source": []
  }
 ],
 "metadata": {
  "kernelspec": {
   "display_name": "Python 3 (ipykernel)",
   "language": "python",
   "name": "python3"
  },
  "language_info": {
   "codemirror_mode": {
    "name": "ipython",
    "version": 3
   },
   "file_extension": ".py",
   "mimetype": "text/x-python",
   "name": "python",
   "nbconvert_exporter": "python",
   "pygments_lexer": "ipython3",
   "version": "3.9.12"
  }
 },
 "nbformat": 4,
 "nbformat_minor": 5
}
