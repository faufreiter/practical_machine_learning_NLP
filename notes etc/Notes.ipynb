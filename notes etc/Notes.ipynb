{
 "cells": [
  {
   "cell_type": "markdown",
   "id": "08d7bdb7-56ee-4b90-b8de-048513208478",
   "metadata": {},
   "source": [
    "# 2023S 136040-1 Practical Machine Learning for Natural Language Processing\n",
    "\n",
    "https://ufind.univie.ac.at/de/course.html?lv=136040&semester=2023S"
   ]
  },
  {
   "cell_type": "markdown",
   "id": "1088a84b-79a0-4b0e-84e8-471319c5a65c",
   "metadata": {},
   "source": [
    "## 02.03.2023\n",
    "\n",
    "Introduction\n",
    "\n",
    "## 07.03.2023\n",
    "\n",
    "Versioning + Github\n",
    "\n",
    "## 09.03.2023\n",
    "\n",
    "Functions, data types and scopes"
   ]
  },
  {
   "cell_type": "markdown",
   "id": "38f0f472-5f8e-4685-ab11-e04be3220b08",
   "metadata": {},
   "source": [
    "## 14.03.2023\n",
    "### Used notebooks \n",
    "#### Python_Basic\n",
    "* 03_Functions\n",
    "* 04_Scopes\n",
    "* 05_Packages\n",
    "* 06_Comprehensions\n",
    "* 07_Functional_Programming\n",
    "\n",
    "#### Python_Intermediate\n",
    "* 09_Classes\n"
   ]
  },
  {
   "cell_type": "markdown",
   "id": "e04ef4cb-8fea-4251-8ecf-322782dd3a2b",
   "metadata": {},
   "source": [
    "### **04_Scopes**"
   ]
  },
  {
   "cell_type": "code",
   "execution_count": 3,
   "id": "a01d185b-1fc0-4934-9677-0c4c1759d200",
   "metadata": {},
   "outputs": [
    {
     "name": "stdout",
     "output_type": "stream",
     "text": [
      "local2\n",
      "local1\n",
      "global\n"
     ]
    }
   ],
   "source": [
    "#Nested scopes in Python\n",
    "\n",
    "x = 'global'\n",
    "\n",
    "def local1():     #If another variable exists with the same name inside the function, the reference before assignment yields an error\n",
    "    #print(x)\n",
    "    x = 'local1'\n",
    "    def local2():\n",
    "        #print(x)\n",
    "        x = 'local2'\n",
    "        print(x)\n",
    "    local2()   \n",
    "    print(x)\n",
    "\n",
    "local1()\n",
    "print(x)"
   ]
  },
  {
   "cell_type": "markdown",
   "id": "d6431c6d-332c-488e-a7bc-b4ac56bf7cf5",
   "metadata": {},
   "source": [
    "--> visualize code of nested scopes via https://pythontutor.com/visualize.html#mode=display "
   ]
  },
  {
   "cell_type": "markdown",
   "id": "14fbbbc6-b604-4b39-8c80-2ab8496b30c8",
   "metadata": {},
   "source": [
    "### **03_Functions**\n",
    "**Generator functions (yield, next)**\n",
    " * \"stores\" value inside (\"normal\" function doesn't store value when run)\n",
    " * returns internal state while running with \"next\""
   ]
  },
  {
   "cell_type": "markdown",
   "id": "ab7b82a3-ed35-4a98-bbd7-42af785e9e2f",
   "metadata": {
    "tags": []
   },
   "source": [
    "### **06_Comprehensions**\n",
    "\n",
    "*List comprehensions* --> \"Using for filtering strings\"\n",
    "* important methods for NLP\n",
    "\n",
    "*Set comprehensions*\n",
    "\n",
    "*Dict comprehensions*"
   ]
  },
  {
   "cell_type": "markdown",
   "id": "ab026e3d-0e22-4dc9-b828-966abf702fe3",
   "metadata": {},
   "source": [
    "### **05_Packages**"
   ]
  },
  {
   "cell_type": "markdown",
   "id": "0631849e-f710-4949-8f7f-6bad6b7903a6",
   "metadata": {},
   "source": [
    "### **07_Functional_Programming**\n",
    "\n",
    "*lambda Functions* --> worth exploring"
   ]
  },
  {
   "cell_type": "markdown",
   "id": "cb7ed529-60f9-4112-b2b6-258eb70e7690",
   "metadata": {},
   "source": [
    "--> assignment: NLP tasks like unix-shell https://www.cs.upc.edu/~padro/Unixforpoets.pdf"
   ]
  },
  {
   "cell_type": "markdown",
   "id": "b6155088-bbfc-490a-8528-5135ae814818",
   "metadata": {},
   "source": [
    "### **09_Classes**\n",
    "\n",
    "* \"triple quote strings\""
   ]
  },
  {
   "cell_type": "markdown",
   "id": "5619b38a-d966-45b9-99b1-dce73b0ad578",
   "metadata": {},
   "source": [
    "### HOMEWORK:\n",
    "\n",
    "* classes\n",
    "* data persistance\n",
    "* functional programming"
   ]
  },
  {
   "cell_type": "markdown",
   "id": "28c35f82-892b-400f-aede-e8fddbe4584c",
   "metadata": {},
   "source": [
    "https://dh-network.github.io/python4poets/\n",
    "\n",
    "https://web.stanford.edu/class/archive/linguist/linguist278/linguist278.1172/notes/278-UnixForPoets.pdf"
   ]
  },
  {
   "cell_type": "markdown",
   "id": "4255f425-9f39-4a1a-9479-a0166d873da3",
   "metadata": {},
   "source": [
    "## 16.03.2023"
   ]
  },
  {
   "cell_type": "markdown",
   "id": "7beb4656-fe9f-43f0-a0f9-632133f36cc3",
   "metadata": {},
   "source": [
    "* HOMEWORK 1: assignment 5 until **28.03.2023** \n",
    "* DOWNLOAD --> NLTK\n",
    "* exercises (classes): quizzes/assignments in \"Python Course\", (Renato's repository)\n",
    "\n",
    "### **09_Classes**\n",
    "\n",
    "* init() method\n",
    "* super \n",
    "* subclasses\n",
    "* inheritance\n",
    "* modifying class\n",
    "* add class"
   ]
  },
  {
   "cell_type": "markdown",
   "id": "f0f0a158-477c-45f3-83a1-12896b2ffad5",
   "metadata": {},
   "source": [
    "## 21.03.2023"
   ]
  },
  {
   "cell_type": "markdown",
   "id": "7eda4df7-e86c-4a6a-95cc-73a742052a3d",
   "metadata": {},
   "source": [
    "### **12_Unitary_Tests**\n",
    "\n",
    "### **10_Decorators**\n"
   ]
  },
  {
   "cell_type": "code",
   "execution_count": 5,
   "id": "20be9079-cd79-4eb1-8db5-7435480698c6",
   "metadata": {},
   "outputs": [],
   "source": [
    "from datetime import datetime\n",
    "\n",
    "def not_during_the_night(func):\n",
    "    def wrapper():\n",
    "        if 7 <= datetime.now().hour < 22:\n",
    "            func()\n",
    "        else:\n",
    "            pass  # Hush, the neighbors are asleep\n",
    "    return wrapper\n",
    "\n",
    "def say_whee():\n",
    "    print(\"Whee!\")\n",
    "\n",
    "say_whee = not_during_the_night(say_whee)"
   ]
  },
  {
   "cell_type": "code",
   "execution_count": 6,
   "id": "cb899778-53cf-4c88-b4ff-4691f72b4b32",
   "metadata": {},
   "outputs": [
    {
     "name": "stdout",
     "output_type": "stream",
     "text": [
      "Whee!\n"
     ]
    }
   ],
   "source": [
    "say_whee()"
   ]
  },
  {
   "cell_type": "markdown",
   "id": "83c3c5cd-383d-4a45-a183-feaad044db10",
   "metadata": {},
   "source": [
    "#### Decorator template"
   ]
  },
  {
   "cell_type": "code",
   "execution_count": null,
   "id": "40b68cb9-6a71-4aca-90d3-e0e9765d8f63",
   "metadata": {},
   "outputs": [],
   "source": [
    "import functools\n",
    "\n",
    "def decorator(func):\n",
    "    @functools.wraps(func)\n",
    "    def wrapper_decorator(*args, **kwargs):\n",
    "        # Do something before\n",
    "        value = func(*args, **kwargs)\n",
    "        # Do something after\n",
    "        return value\n",
    "    return wrapper_decorator"
   ]
  },
  {
   "cell_type": "markdown",
   "id": "02ef2657-665a-4d17-bb95-e179046ec785",
   "metadata": {},
   "source": [
    "### 23.03.2023"
   ]
  },
  {
   "cell_type": "markdown",
   "id": "4a6dd447-af5e-4ad1-b6d4-f1a763299bf6",
   "metadata": {},
   "source": [
    "### **Introduction to Text Representation for ML**\n",
    "--> Representing text with vectory\n",
    "\n",
    "### **Python_DataScience**\n",
    "### 01_Intro_Numpy\n",
    "### 12_Unitary_Tests\n",
    "\n",
    "#### 2nd assignment: 15.04.2023"
   ]
  },
  {
   "cell_type": "markdown",
   "id": "4620114d-3b89-4a80-9b3d-0d24ec1cde9b",
   "metadata": {},
   "source": [
    "https://icolorpalette.com/color/ddd"
   ]
  },
  {
   "cell_type": "markdown",
   "id": "88685844-8aba-466e-b9b8-c67ab48b872d",
   "metadata": {},
   "source": [
    "# 28.03.2023"
   ]
  },
  {
   "cell_type": "markdown",
   "id": "7251f387-3423-4af7-926d-f8b2057583d1",
   "metadata": {},
   "source": [
    "### **scikit-learn**\n",
    "\n",
    "https://scikit-learn.org/stable/\n",
    "\n",
    "### **DataScience_Course**\n",
    "### 1a_IntroNLP_TextClassification"
   ]
  },
  {
   "cell_type": "code",
   "execution_count": null,
   "id": "b9d7a83c-f344-46f7-b84c-38030fc2a542",
   "metadata": {},
   "outputs": [],
   "source": []
  },
  {
   "cell_type": "markdown",
   "id": "bf32caa9-f060-4bbb-a58b-4876f5ace7df",
   "metadata": {},
   "source": [
    "# 25.04.2023\n",
    "* Neural Network - Notebook (Renato)"
   ]
  },
  {
   "cell_type": "markdown",
   "id": "5a4a25f2-67b8-4345-bff3-2b59be859232",
   "metadata": {},
   "source": [
    "# 27.04.2023\n",
    "\n",
    "* Numpy"
   ]
  },
  {
   "cell_type": "markdown",
   "id": "78e2a953-34fb-4d4d-907c-1e71e3eb02a3",
   "metadata": {},
   "source": [
    "### Quiz\n",
    "\n",
    "**Was ist der Wert von b?**\n",
    "\n",
    "a = np . a r a n g e ( 4 ) --> a: [0, 1, 2, 3]\n",
    "\n",
    "b = a [ : ] --> b: [0, 1, 2, 3]\n",
    "\n",
    "a ∗= b --> a = a*b ; a: [0, 1, 4, 9]\n"
   ]
  },
  {
   "cell_type": "markdown",
   "id": "d5b9590b-f334-461b-b9ee-86fc20967db8",
   "metadata": {},
   "source": [
    "#### Speicherplatz\n",
    "\n",
    "**Gegeben:**\n",
    "* 1000 Dokumente\n",
    "* 100 verschiedene Wörter pro Dokument\n",
    "* 10000 Vokabulargröße\n",
    "Wieviel Speicherplatz (Prozent) ben ̈otigt eine Sparse Matrix im\n",
    "Vergleich zu einem Array?\n",
    "\n",
    "Numpy/dense: 1000 * 10 000 = 10 000 000\n",
    "\n",
    "Sparse: 1000 * 100 * 3 = 300 000 \n",
    "\n",
    "(row, col) --> value (--> * 3)"
   ]
  },
  {
   "cell_type": "markdown",
   "id": "f82306cd-76c7-4b18-9f85-2a93745ccff5",
   "metadata": {},
   "source": [
    "# 02.05.2023\n",
    "\n",
    "* prompt engineering Chat GPT: https://www.deeplearning.ai/short-courses/chatgpt-prompt-engineering-for-developers/\n",
    "\n",
    "## Scikit-Learn\n",
    "* DictVectorizer\n",
    "* CountVectorizer\n",
    "* TfidfVectorizer https://scikit-learn.org/stable/modules/generated/sklearn.feature_extraction.text.TfidfVectorizer.html --> NOT part of the lecture slides"
   ]
  },
  {
   "cell_type": "markdown",
   "id": "e302c3c3-f553-4922-af2f-a7d1e8f9f4f7",
   "metadata": {},
   "source": [
    "# 04.05.2023\n",
    "\n",
    "* MaxEnt Classifier\n",
    "* NLTK documentation https://www.nltk.org/_modules/nltk/classify/maxent.html\n",
    "* Scikit-Learn LogisticRegression https://scikit-learn.org/stable/modules/generated/sklearn.linear_model.LogisticRegression.html\n",
    "* Support-Vector Machine https://towardsdatascience.com/support-vector-machine-introduction-to-machine-learning-algorithms-934a444fca47"
   ]
  },
  {
   "cell_type": "markdown",
   "id": "3aa80bd9-a5f7-4ded-a211-8612a3cb3009",
   "metadata": {},
   "source": [
    "# 09.05.2023\n",
    "### linear regression:\n",
    "\n",
    "\n",
    "\n",
    "### gradient descent:\n",
    "\n",
    "* numerical algorithm, approximates numerically; often more stable and faster\n",
    "\n",
    "* you could be stuck in a local minimum, optimization algorithim --> finding minimums (topology of the function important)\n",
    "\n",
    "* *scaling of features*: important for the results, could deform the topology of the algorithm and change the outcome\n",
    "\n",
    "\n",
    "\n",
    "### MaxEnt Classifier\n",
    "\n",
    "\n",
    "* testing the function of algorithm: https://playground.tensorflow.org/#activation=linear&batchSize=10&dataset=xor&regDataset=reg-gauss&learningRate=0.03&regularizationRate=0&noise=0&networkShape=1&seed=0.40806&showTestData=false&discretize=false&percTrainData=50&x=true&y=true&xTimesY=false&xSquared=false&ySquared=false&cosX=false&sinX=false&cosY=false&sinY=false&collectStats=false&problem=classification&initZero=false&hideText=false"
   ]
  },
  {
   "cell_type": "code",
   "execution_count": null,
   "id": "67256031-e4d2-4135-9a7b-1c29d3027319",
   "metadata": {},
   "outputs": [],
   "source": []
  }
 ],
 "metadata": {
  "kernelspec": {
   "display_name": "Python 3 (ipykernel)",
   "language": "python",
   "name": "python3"
  },
  "language_info": {
   "codemirror_mode": {
    "name": "ipython",
    "version": 3
   },
   "file_extension": ".py",
   "mimetype": "text/x-python",
   "name": "python",
   "nbconvert_exporter": "python",
   "pygments_lexer": "ipython3",
   "version": "3.9.12"
  }
 },
 "nbformat": 4,
 "nbformat_minor": 5
}
