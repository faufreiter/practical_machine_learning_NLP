{
 "cells": [
  {
   "cell_type": "markdown",
   "id": "08d7bdb7-56ee-4b90-b8de-048513208478",
   "metadata": {},
   "source": [
    "# 2023S 136040-1 Practical Machine Learning for Natural Language Processing\n",
    "\n",
    "https://ufind.univie.ac.at/de/course.html?lv=136040&semester=2023S"
   ]
  },
  {
   "cell_type": "markdown",
   "id": "1088a84b-79a0-4b0e-84e8-471319c5a65c",
   "metadata": {},
   "source": [
    "## 02.03.2023\n",
    "\n",
    "Introduction\n",
    "\n",
    "## 07.03.2023\n",
    "\n",
    "Versioning + Github\n",
    "\n",
    "## 09.03.2023\n",
    "\n",
    "Functions, data types and scopes"
   ]
  },
  {
   "cell_type": "markdown",
   "id": "38f0f472-5f8e-4685-ab11-e04be3220b08",
   "metadata": {},
   "source": [
    "## 14.03.2023\n",
    "### Used notebooks \n",
    "#### Python_Basic\n",
    "* 03_Functions\n",
    "* 04_Scopes\n",
    "* 05_Packages\n",
    "* 06_Comprehensions\n",
    "* 07_Functional_Programming\n",
    "\n",
    "#### Python_Intermediate\n",
    "* 09_Classes\n"
   ]
  },
  {
   "cell_type": "markdown",
   "id": "e04ef4cb-8fea-4251-8ecf-322782dd3a2b",
   "metadata": {},
   "source": [
    "### **04_Scopes**"
   ]
  },
  {
   "cell_type": "code",
   "execution_count": 3,
   "id": "a01d185b-1fc0-4934-9677-0c4c1759d200",
   "metadata": {},
   "outputs": [
    {
     "name": "stdout",
     "output_type": "stream",
     "text": [
      "local2\n",
      "local1\n",
      "global\n"
     ]
    }
   ],
   "source": [
    "#Nested scopes in Python\n",
    "\n",
    "x = 'global'\n",
    "\n",
    "def local1():     #If another variable exists with the same name inside the function, the reference before assignment yields an error\n",
    "    #print(x)\n",
    "    x = 'local1'\n",
    "    def local2():\n",
    "        #print(x)\n",
    "        x = 'local2'\n",
    "        print(x)\n",
    "    local2()   \n",
    "    print(x)\n",
    "\n",
    "local1()\n",
    "print(x)"
   ]
  },
  {
   "cell_type": "markdown",
   "id": "d6431c6d-332c-488e-a7bc-b4ac56bf7cf5",
   "metadata": {},
   "source": [
    "--> visualize code of nested scopes via https://pythontutor.com/visualize.html#mode=display "
   ]
  },
  {
   "cell_type": "markdown",
   "id": "14fbbbc6-b604-4b39-8c80-2ab8496b30c8",
   "metadata": {},
   "source": [
    "### **03_Functions**\n",
    "**Generator functions (yield, next)**\n",
    " * \"stores\" value inside (\"normal\" function doesn't store value when run)\n",
    " * returns internal state while running with \"next\""
   ]
  },
  {
   "cell_type": "markdown",
   "id": "ab7b82a3-ed35-4a98-bbd7-42af785e9e2f",
   "metadata": {
    "tags": []
   },
   "source": [
    "### **06_Comprehensions**\n",
    "\n",
    "*List comprehensions* --> \"Using for filtering strings\"\n",
    "* important methods for NLP\n",
    "\n",
    "*Set comprehensions*\n",
    "\n",
    "*Dict comprehensions*"
   ]
  },
  {
   "cell_type": "markdown",
   "id": "ab026e3d-0e22-4dc9-b828-966abf702fe3",
   "metadata": {},
   "source": [
    "### **05_Packages**"
   ]
  },
  {
   "cell_type": "markdown",
   "id": "0631849e-f710-4949-8f7f-6bad6b7903a6",
   "metadata": {},
   "source": [
    "### **07_Functional_Programming**\n",
    "\n",
    "*lambda Functions* --> worth exploring"
   ]
  },
  {
   "cell_type": "markdown",
   "id": "cb7ed529-60f9-4112-b2b6-258eb70e7690",
   "metadata": {},
   "source": [
    "--> assignment: NLP tasks like unix-shell https://www.cs.upc.edu/~padro/Unixforpoets.pdf"
   ]
  },
  {
   "cell_type": "markdown",
   "id": "b6155088-bbfc-490a-8528-5135ae814818",
   "metadata": {},
   "source": [
    "### **09_Classes**\n",
    "\n",
    "* \"triple quote strings\""
   ]
  },
  {
   "cell_type": "markdown",
   "id": "5619b38a-d966-45b9-99b1-dce73b0ad578",
   "metadata": {},
   "source": [
    "### HOMEWORK:\n",
    "\n",
    "* classes\n",
    "* data persistance\n",
    "* functional programming"
   ]
  },
  {
   "cell_type": "markdown",
   "id": "28c35f82-892b-400f-aede-e8fddbe4584c",
   "metadata": {},
   "source": [
    "https://dh-network.github.io/python4poets/\n",
    "\n",
    "https://web.stanford.edu/class/archive/linguist/linguist278/linguist278.1172/notes/278-UnixForPoets.pdf"
   ]
  },
  {
   "cell_type": "markdown",
   "id": "4255f425-9f39-4a1a-9479-a0166d873da3",
   "metadata": {},
   "source": [
    "## 16.03.2023"
   ]
  },
  {
   "cell_type": "markdown",
   "id": "7beb4656-fe9f-43f0-a0f9-632133f36cc3",
   "metadata": {},
   "source": [
    "* HOMEWORK 1: assignment 5 until 28.03.2023 (DOWNLOAD --> NLTK)\n",
    "\n",
    "### **09_Classes**\n",
    "\n",
    "* init() method\n",
    "* super \n",
    "* subclasses\n",
    "* inheritance\n",
    "* modifying class\n",
    "* add class"
   ]
  },
  {
   "cell_type": "markdown",
   "id": "f0f0a158-477c-45f3-83a1-12896b2ffad5",
   "metadata": {},
   "source": [
    "## 21.03.2023"
   ]
  },
  {
   "cell_type": "code",
   "execution_count": null,
   "id": "40205ef9-e439-412e-b663-697496e08431",
   "metadata": {},
   "outputs": [],
   "source": []
  }
 ],
 "metadata": {
  "kernelspec": {
   "display_name": "Python 3 (ipykernel)",
   "language": "python",
   "name": "python3"
  },
  "language_info": {
   "codemirror_mode": {
    "name": "ipython",
    "version": 3
   },
   "file_extension": ".py",
   "mimetype": "text/x-python",
   "name": "python",
   "nbconvert_exporter": "python",
   "pygments_lexer": "ipython3",
   "version": "3.9.12"
  }
 },
 "nbformat": 4,
 "nbformat_minor": 5
}
