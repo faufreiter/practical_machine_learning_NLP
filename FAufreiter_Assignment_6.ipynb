{
 "cells": [
  {
   "cell_type": "markdown",
   "metadata": {},
   "source": [
    "# Assignment done by: Felix Aufreiter (1251759)"
   ]
  },
  {
   "cell_type": "markdown",
   "metadata": {},
   "source": [
    "<img src=\"https://communications.univie.ac.at/fileadmin/_processed_/csm_Uni_Logo_2016_2f47aacf37.jpg\" \n",
    "     alt=\"Logo Universität Wien\" \n",
    "     width=\"200\"/>\n",
    "\n",
    "# Practical Machine Learning for Natural Language Processing - 2023 SS  \n",
    "\n",
    "### Assigment 2 - Generators and Classes   \n",
    "\n",
    "In this assigment we are going to play with generators and instances/classes - structures that retain state.  "
   ]
  },
  {
   "cell_type": "markdown",
   "metadata": {},
   "source": [
    "***"
   ]
  },
  {
   "cell_type": "markdown",
   "metadata": {
    "tags": []
   },
   "source": [
    "### 1. Alea Iacta Est  \n",
    "\n",
    "(a) Using [generator functions](https://github.com/rsouza/Python_Course/blob/master/Notebooks/Python_Basic/03_Functions.ipynb), create an object that emulates an eight-sided dice (1-8) that is biased, such that the probability of this generator function returning a certain value is proportional to the value itself (i.e. the face \"6\" is 3 times more likely to come out than face \"2\");  \n",
    "\n",
    " <img src=\"https://cdn11.bigcommerce.com/s-70184/images/stencil/608x608/products/532/7428/d8-dice-blue__64321.1664335674.jpg\" alt=\"8-Dice\" style=\"width:250px;height:300px;\"> \n",
    "\n",
    "(b) Using [Matplotlib](https://matplotlib.org/) plt.plot or plt.hist commands, show graphically the result of 10000 casts of the die;  \n",
    "\n",
    "(c) Modify this generator function so that it terminates automatically when all possible values (1,2,3,4,5,6,7,8) have been cast at least once. In this case, it will return the total absolute time that has elapsed since the first iteration.  (hint: a function can have both **return** and **yield** commands)  "
   ]
  },
  {
   "cell_type": "code",
   "execution_count": 37,
   "metadata": {},
   "outputs": [],
   "source": [
    "import random\n",
    "import matplotlib.pyplot as plt\n",
    "import time"
   ]
  },
  {
   "cell_type": "markdown",
   "metadata": {},
   "source": [
    "Additional information: https://pynative.com/python-weighted-random-choices-with-probability/"
   ]
  },
  {
   "cell_type": "code",
   "execution_count": 32,
   "metadata": {},
   "outputs": [
    {
     "name": "stdout",
     "output_type": "stream",
     "text": [
      "Roll 1, result = 4\n",
      "Roll 2, result = 7\n"
     ]
    }
   ],
   "source": [
    "# a)\n",
    "\n",
    "def dice8():\n",
    "    sides = [1, 2, 3, 4, 5, 6, 7, 8]\n",
    "    weights = [1, 2, 3, 4, 5, 6, 7, 8]\n",
    "    return random.choices(sides, weights=weights, k=1)[0]\n",
    "\n",
    "#adjust number of rolls\n",
    "rolls = 2\n",
    "\n",
    "for i in range(rolls):\n",
    "    result = dice8()\n",
    "    print(f\"Roll {i+1}, result = {result}\") "
   ]
  },
  {
   "cell_type": "code",
   "execution_count": 33,
   "metadata": {},
   "outputs": [
    {
     "name": "stdout",
     "output_type": "stream",
     "text": [
      "{3: 821, 6: 1622, 7: 1962, 8: 2226, 2: 527, 4: 1140, 5: 1392, 1: 310}\n"
     ]
    }
   ],
   "source": [
    "# b)\n",
    "\n",
    "#store value of 10000 rolls\n",
    "\n",
    "rolls_10000 = {}\n",
    "for i in range(10000):\n",
    "    result = dice8()\n",
    "    if result in rolls_10000:\n",
    "        rolls_10000[result] += 1\n",
    "    else:\n",
    "        rolls_10000[result] = 1\n",
    "\n",
    "print(rolls_10000)"
   ]
  },
  {
   "cell_type": "code",
   "execution_count": 34,
   "metadata": {},
   "outputs": [
    {
     "name": "stdout",
     "output_type": "stream",
     "text": [
      "{'side': [3, 6, 7, 8, 2, 4, 5, 1], 'count': [821, 1622, 1962, 2226, 527, 1140, 1392, 310]}\n"
     ]
    }
   ],
   "source": [
    "#create dataframe with results of 10000 rolls\n",
    "\n",
    "rolls_list = [[side, count] for side, count in rolls_10000.items()]\n",
    "\n",
    "df = {'side': [], 'count': []}\n",
    "for roll in rolls_list:\n",
    "    df['side'].append(roll[0])\n",
    "    df['count'].append(roll[1])\n",
    "\n",
    "print(df)\n"
   ]
  },
  {
   "cell_type": "code",
   "execution_count": 35,
   "metadata": {},
   "outputs": [
    {
     "data": {
      "image/png": "[encoded data removed]",
      "text/plain": [
       "<Figure size 720x432 with 1 Axes>"
      ]
     },
     "metadata": {
      "needs_background": "light"
     },
     "output_type": "display_data"
    }
   ],
   "source": [
    "fig, ax = plt.subplots(figsize=(10,6))\n",
    "#plt.style.use(\"seaborn-dark-palette\")\n",
    "\n",
    "counts = df['count']\n",
    "bar_labels = df['side']\n",
    "\n",
    "ax.bar(bar_labels, counts)\n",
    "ax.set_xlabel('Results (side of the dice)', fontsize=10)\n",
    "ax.set_ylabel('Counts', fontsize=10)\n",
    "ax.set_title('Results 10000 rolls (eight-sided dice)')\n",
    "ax.title.set_size(14)\n",
    "plt.bar_label(ax.containers[0], label_type='edge', padding=2, fontsize=10)\n",
    "\n",
    "plt.show()"
   ]
  },
  {
   "cell_type": "code",
   "execution_count": 71,
   "metadata": {},
   "outputs": [],
   "source": [
    "# c)\n",
    "\n",
    "def dice_time():\n",
    "    seiten = [1, 2, 3, 4, 5, 6, 7, 8]\n",
    "    gewichtung = [1, 2, 3, 4, 5, 6, 7, 8] # I wasn't sure if the weights should also be part of the code\n",
    "    counts = {seite: 0 for seite in seiten}\n",
    "    start_time = time.time()\n",
    "    total_time = 0\n",
    "   # seite = None  # Initialize seite to None\n",
    "    while not all(counts.values()):\n",
    "        result = random.choices(seiten, weights=gewichtung, k=1)[0]\n",
    "        counts[result] += 1\n",
    "        yield result\n",
    "    total_time = time.time() - start_time\n",
    "    yield f\"Alle Seiten des Würfels wurden ERFOLGREICH erwürfelt. Vergangene Zeit: {total_time:.5f} Sekunden.\" \n",
    "    # {total_time: .5f} --> KOMMASTELLEN anpassen"
   ]
  },
  {
   "cell_type": "code",
   "execution_count": 72,
   "metadata": {},
   "outputs": [
    {
     "name": "stdout",
     "output_type": "stream",
     "text": [
      "8\n",
      "7\n",
      "7\n",
      "7\n",
      "3\n",
      "5\n",
      "5\n",
      "7\n",
      "6\n",
      "5\n",
      "7\n",
      "5\n",
      "7\n",
      "8\n",
      "1\n",
      "7\n",
      "8\n",
      "6\n",
      "3\n",
      "8\n",
      "7\n",
      "7\n",
      "4\n",
      "8\n",
      "3\n",
      "3\n",
      "8\n",
      "5\n",
      "8\n",
      "8\n",
      "6\n",
      "8\n",
      "6\n",
      "3\n",
      "4\n",
      "3\n",
      "7\n",
      "6\n",
      "2\n",
      "Alle Seiten des Würfels wurden ERFOLGREICH erwürfelt. Vergangene Zeit: 0.01101 Sekunden.\n"
     ]
    }
   ],
   "source": [
    "#duration until all \n",
    "\n",
    "wuerfelzeit = dice_time()\n",
    "\n",
    "for wurf in wuerfelzeit:\n",
    "    print(wurf)"
   ]
  },
  {
   "cell_type": "markdown",
   "metadata": {},
   "source": [
    "### 2. A ticket to the first Class    \n",
    "\n",
    "+ Create a Class called \"Elevator\". Each instance of this class receives as parameters the number of floors in the building and starts the elevator on the lowest floor.  \n",
    "+ This Class should have methods and properties to allow the elevator to:\n",
    "<br></br>\n",
    "    + Receive a call - user(s) press a button to go to specific floor(s);  \n",
    "    + Receive a floor as a destination - when users enter the elevator, each one may press a button to choose destination floor;  \n",
    "    + Store and inform which floor the elevator is at each moment(consider that trips for consecutive floors takes 5 seconds, and stopping takes 10 seconds);  \n",
    "    + Store and inform which users are in the elevator;  \n",
    "    + Store and inform the sequence of floors yet to be visited;  \n",
    "    + Store the number of times the elevator stopped in each floor (passing through the floor without \"stopping\" on the floor does not count);  \n",
    "    + Refuses commands to go to inexistent floors.  \n",
    "<br></br>\n",
    "+ Simulate the behavior of the elevator serving ten users, each one calling from a random floor, and chosing a random destination floor.   \n",
    "+ Graphically illustrate the current elevator position for the requested simulation.   \n",
    "+ (BONUS) Create a smart building simulator, controlling calls made to n > 1 elevators and routing elevator properly.  "
   ]
  },
  {
   "cell_type": "code",
   "execution_count": null,
   "metadata": {},
   "outputs": [],
   "source": [
    "class elevator:\n",
    "    "
   ]
  },
  {
   "cell_type": "code",
   "execution_count": null,
   "metadata": {},
   "outputs": [],
   "source": []
  },
  {
   "cell_type": "code",
   "execution_count": null,
   "metadata": {},
   "outputs": [],
   "source": []
  }
 ],
 "metadata": {
  "kernelspec": {
   "display_name": "Python 3 (ipykernel)",
   "language": "python",
   "name": "python3"
  },
  "language_info": {
   "codemirror_mode": {
    "name": "ipython",
    "version": 3
   },
   "file_extension": ".py",
   "mimetype": "text/x-python",
   "name": "python",
   "nbconvert_exporter": "python",
   "pygments_lexer": "ipython3",
   "version": "3.9.12"
  }
 },
 "nbformat": 4,
 "nbformat_minor": 4
}
