{
 "cells": [
  {
   "cell_type": "markdown",
   "metadata": {},
   "source": [
    "# Assignment done by: Felix Aufreiter (1251759)"
   ]
  },
  {
   "cell_type": "markdown",
   "metadata": {},
   "source": [
    "<img src=\"https://communications.univie.ac.at/fileadmin/_processed_/csm_Uni_Logo_2016_2f47aacf37.jpg\" \n",
    "     alt=\"Logo Universität Wien\" \n",
    "     width=\"200\"/>\n",
    "\n",
    "# Practical Machine Learning for Natural Language Processing - 2023 SS  \n",
    "\n",
    "### Assigment 2 - Generators and Classes   \n",
    "\n",
    "In this assigment we are going to play with generators and instances/classes - structures that retain state.  "
   ]
  },
  {
   "cell_type": "markdown",
   "metadata": {},
   "source": [
    "***"
   ]
  },
  {
   "cell_type": "markdown",
   "metadata": {
    "tags": []
   },
   "source": [
    "### 1. Alea Iacta Est  \n",
    "\n",
    "(a) Using [generator functions](https://github.com/rsouza/Python_Course/blob/master/Notebooks/Python_Basic/03_Functions.ipynb), create an object that emulates an eight-sided dice (1-8) that is biased, such that the probability of this generator function returning a certain value is proportional to the value itself (i.e. the face \"6\" is 3 times more likely to come out than face \"2\");  \n",
    "\n",
    " <img src=\"https://cdn11.bigcommerce.com/s-70184/images/stencil/608x608/products/532/7428/d8-dice-blue__64321.1664335674.jpg\" alt=\"8-Dice\" style=\"width:250px;height:300px;\"> \n",
    "\n",
    "(b) Using [Matplotlib](https://matplotlib.org/) plt.plot or plt.hist commands, show graphically the result of 10000 casts of the die;  \n",
    "\n",
    "(c) Modify this generator function so that it terminates automatically when all possible values (1,2,3,4,5,6,7,8) have been cast at least once. In this case, it will return the total absolute time that has elapsed since the first iteration.  (hint: a function can have both **return** and **yield** commands)  "
   ]
  },
  {
   "cell_type": "code",
   "execution_count": 1,
   "metadata": {},
   "outputs": [],
   "source": [
    "import random\n",
    "import matplotlib.pyplot as plt\n",
    "import time"
   ]
  },
  {
   "cell_type": "code",
   "execution_count": 2,
   "metadata": {},
   "outputs": [
    {
     "data": {
      "text/plain": [
       "6"
      ]
     },
     "execution_count": 2,
     "metadata": {},
     "output_type": "execute_result"
    }
   ],
   "source": [
    "# a.) \n",
    "\n",
    "# create a generator function for the dice\n",
    "\n",
    "def dice8():\n",
    "    sides = [1, 2, 3, 4, 5, 6, 7, 8]\n",
    "    weights = [1, 2, 3, 4, 5, 6, 7, 8]\n",
    "    while True:\n",
    "        yield random.choices(sides, weights=weights, k=1)[0]\n",
    "\n",
    "next(dice8())"
   ]
  },
  {
   "cell_type": "code",
   "execution_count": 3,
   "metadata": {},
   "outputs": [
    {
     "name": "stdout",
     "output_type": "stream",
     "text": [
      "Roll 1, result = 6\n",
      "Roll 2, result = 6\n"
     ]
    }
   ],
   "source": [
    "rolls = 2\n",
    "\n",
    "dice_generator = dice8() #use generator function\n",
    "\n",
    "# Roll the DICE!!!\n",
    "for i in range(rolls):\n",
    "    result = next(dice_generator)\n",
    "    print(f\"Roll {i+1}, result = {result}\")\n",
    "\n",
    "    \n",
    "#testing the generator function"
   ]
  },
  {
   "cell_type": "code",
   "execution_count": 4,
   "metadata": {},
   "outputs": [],
   "source": [
    "# b)\n",
    "\n",
    "#roll the dice 1000 times\n",
    "\n",
    "# same generator function like above\n",
    "\n",
    "def dice8_1000():\n",
    "    sides = [1, 2, 3, 4, 5, 6, 7, 8]\n",
    "    weights = [1, 2, 3, 4, 5, 6, 7, 8]\n",
    "    while True:\n",
    "        yield random.choices(sides, weights=weights, k=1)[0]\n",
    "\n",
    "dice_generator1000 = dice8_1000()"
   ]
  },
  {
   "cell_type": "code",
   "execution_count": 13,
   "metadata": {},
   "outputs": [
    {
     "name": "stdout",
     "output_type": "stream",
     "text": [
      "{'side': [1, 2, 3, 4, 5, 6, 7, 8], 'count': [31, 53, 74, 113, 134, 167, 207, 221]}\n"
     ]
    }
   ],
   "source": [
    "# b)\n",
    "\n",
    "#roll the dice 1000 times\n",
    "\n",
    "casts = 1000\n",
    "roll1000_results = [] # count the results\n",
    "dice_generator1000 = dice8_1000() \n",
    "counts = {i: 0 for i in range(1, 9)} #range 1 to 8\n",
    "\n",
    "#for loop to cast 1000 times\n",
    "\n",
    "for i in range(casts):\n",
    "    result = next(dice_generator1000)\n",
    "    roll1000_results.append(result)\n",
    "    counts[result] += 1\n",
    "        \n",
    "# dictionary with sides + counts\n",
    "data1000 = {\"side\": [], \"count\": []}\n",
    "for side in counts:\n",
    "    data1000[\"side\"].append(side)\n",
    "    data1000[\"count\"].append(counts[side])\n",
    "\n",
    "# create the dataframe from the dictionary\n",
    "df_1000 = data1000\n",
    "print(df_1000)"
   ]
  },
  {
   "cell_type": "code",
   "execution_count": 14,
   "metadata": {},
   "outputs": [
    {
     "data": {
      "image/png": "[encoded data removed]",
      "text/plain": [
       "<Figure size 720x432 with 1 Axes>"
      ]
     },
     "metadata": {
      "needs_background": "light"
     },
     "output_type": "display_data"
    }
   ],
   "source": [
    "#plotting the results of 1000 casts of the dice\n",
    "\n",
    "fig, ax = plt.subplots(figsize=(10,6))\n",
    "plt.style.use(\"seaborn-dark-palette\")\n",
    "\n",
    "counts = df_1000['count']\n",
    "bar_labels = df_1000['side']\n",
    "\n",
    "ax.bar(bar_labels, counts)\n",
    "ax.set_xlabel('Results (side of the dice)', fontsize=10)\n",
    "ax.set_ylabel('Counts', fontsize=10)\n",
    "ax.set_title('Results 1000 rolls (eight-sided dice)')\n",
    "ax.title.set_size(14)\n",
    "plt.bar_label(ax.containers[0], label_type='edge', padding=2, fontsize=10)\n",
    "\n",
    "plt.show()"
   ]
  },
  {
   "cell_type": "markdown",
   "metadata": {},
   "source": [
    "Additional information: https://pynative.com/python-weighted-random-choices-with-probability/"
   ]
  },
  {
   "cell_type": "code",
   "execution_count": 15,
   "metadata": {},
   "outputs": [],
   "source": [
    "# c)\n",
    "\n",
    "def dice_time():\n",
    "    seiten = [1, 2, 3, 4, 5, 6, 7, 8]\n",
    "    gewichtung = [1, 2, 3, 4, 5, 6, 7, 8] # I wasn't sure if the weights should also be part of the code\n",
    "    counts = {seite: 0 for seite in seiten}\n",
    "    start_time = time.time()\n",
    "    total_time = 0\n",
    "   # seite = None  # Initialize seite to None\n",
    "    while not all(counts.values()):\n",
    "        result = random.choices(seiten, weights=gewichtung, k=1)[0]\n",
    "        counts[result] += 1\n",
    "        yield result\n",
    "    total_time = time.time() - start_time\n",
    "    yield f\"Alle Seiten des Würfels wurden ERFOLGREICH erwürfelt. Vergangene Zeit: {total_time:.5f} Sekunden.\" \n",
    "    # {total_time: .5f} --> KOMMASTELLEN anpassen"
   ]
  },
  {
   "cell_type": "code",
   "execution_count": 16,
   "metadata": {},
   "outputs": [
    {
     "name": "stdout",
     "output_type": "stream",
     "text": [
      "7\n",
      "4\n",
      "4\n",
      "8\n",
      "4\n",
      "6\n",
      "6\n",
      "3\n",
      "4\n",
      "8\n",
      "5\n",
      "5\n",
      "7\n",
      "5\n",
      "6\n",
      "4\n",
      "5\n",
      "5\n",
      "5\n",
      "6\n",
      "7\n",
      "4\n",
      "8\n",
      "6\n",
      "7\n",
      "8\n",
      "1\n",
      "3\n",
      "6\n",
      "7\n",
      "7\n",
      "4\n",
      "5\n",
      "8\n",
      "5\n",
      "6\n",
      "7\n",
      "8\n",
      "6\n",
      "6\n",
      "8\n",
      "8\n",
      "8\n",
      "5\n",
      "2\n",
      "Alle Seiten des Würfels wurden ERFOLGREICH erwürfelt. Vergangene Zeit: 0.01065 Sekunden.\n"
     ]
    }
   ],
   "source": [
    "#duration until all \n",
    "\n",
    "wuerfelzeit = dice_time()\n",
    "\n",
    "for wurf in wuerfelzeit:\n",
    "    print(wurf)"
   ]
  },
  {
   "cell_type": "markdown",
   "metadata": {},
   "source": [
    "### 2. A ticket to the first Class    \n",
    "\n",
    "+ Create a Class called \"Elevator\". Each instance of this class receives as parameters the number of floors in the building and starts the elevator on the lowest floor.  \n",
    "+ This Class should have methods and properties to allow the elevator to:\n",
    "<br></br>\n",
    "    + Receive a call - user(s) press a button to go to specific floor(s);  \n",
    "    + Receive a floor as a destination - when users enter the elevator, each one may press a button to choose destination floor;  \n",
    "    + Store and inform which floor the elevator is at each moment(consider that trips for consecutive floors takes 5 seconds, and stopping takes 10 seconds);  \n",
    "    + Store and inform which users are in the elevator;  \n",
    "    + Store and inform the sequence of floors yet to be visited;  \n",
    "    + Store the number of times the elevator stopped in each floor (passing through the floor without \"stopping\" on the floor does not count);  \n",
    "    + Refuses commands to go to inexistent floors.  \n",
    "<br></br>\n",
    "+ Simulate the behavior of the elevator serving ten users, each one calling from a random floor, and chosing a random destination floor.   \n",
    "+ Graphically illustrate the current elevator position for the requested simulation.   \n",
    "+ (BONUS) Create a smart building simulator, controlling calls made to n > 1 elevators and routing elevator properly.  "
   ]
  },
  {
   "cell_type": "code",
   "execution_count": 19,
   "metadata": {},
   "outputs": [],
   "source": [
    "# elevator simulation\n",
    "\n",
    "class Elevator:\n",
    "    def __init__(self, ground_floor, top_floor, current=0):\n",
    "        self.ground = ground_floor\n",
    "        self.top = top_floor\n",
    "        self.current = current\n",
    "        self.memory = [] #stores the events of the elevator --> can be used later\n",
    "        self.user_database = []\n",
    "        self.location = [current]\n",
    "        self.floor_count = {floor: 0 for floor in range(ground_floor, top_floor+1)}\n",
    "        self.user_info = []\n",
    "    \n",
    "    def up(self):\n",
    "        if self.current < self.top:\n",
    "            self.log(f\"UP!\")\n",
    "            self.current += 1\n",
    "            self.location.append(self.current)\n",
    "            time.sleep(5)\n",
    "            self.log(f\"Current location: floor {self.current}\")\n",
    "        elif self.current == self.top:\n",
    "            print(\"ATTENTION = Top floor\")\n",
    "            time.sleep(5)\n",
    "    \n",
    "    def down(self):\n",
    "        if self.current > self.ground:\n",
    "            self.log(f\"DOWN!\")\n",
    "            self.current -= 1\n",
    "            self.location.append(self.current)\n",
    "            time.sleep(5)\n",
    "            self.log(f\"Current location: floor {self.current}\")\n",
    "        elif self.current == self.ground:\n",
    "            print(\"ATTENTION = Ground floor\")\n",
    "            time.sleep(5)\n",
    "    \n",
    "    def destination(self, floor):\n",
    "        if floor in range(self.ground, self.top+1):\n",
    "            self.log(f\"Button pushed by user --> DESTINATION: floor {floor}\")\n",
    "            n = abs(self.current - floor)\n",
    "            for i in range(n):\n",
    "                if self.current < floor:\n",
    "                    self.up()\n",
    "                elif self.current > floor:\n",
    "                    self.down()\n",
    "            self.log(f\"Doors open on floor {self.current}\")\n",
    "            time.sleep(5)\n",
    "        else:\n",
    "            print(\"Floor DOESN'T exist!\")\n",
    "    \n",
    "    def call_elevator(self, floor):\n",
    "        if floor in range(self.ground, self.top+1):\n",
    "            self.log(f\"Called to floor {floor}\")\n",
    "            n = abs(self.current - floor)\n",
    "            for i in range(n):\n",
    "                if self.current < floor:\n",
    "                    self.up()\n",
    "                elif self.current > floor:\n",
    "                    self.down()\n",
    "            self.log(f\"Doors open on floor {self.current}\")\n",
    "            time.sleep(5)\n",
    "        else:\n",
    "            print(\"This floor does not exist\")\n",
    "    \n",
    "    def log(self, message):#stores the events of the \n",
    "        self.memory.append(message)\n",
    "        print(message)\n",
    "    \n",
    "    def logbook(self):\n",
    "        print('LOGBOOK:\\n')\n",
    "        count = 1\n",
    "        for info in self.user_info:\n",
    "            print(f'User: {count} / Start: {info[\"start\"]}, Destination: {info[\"destination\"]}')\n",
    "            count +=1\n",
    "    \n",
    "    def register(self, user):\n",
    "        self.user_database.append(user)\n",
    "        self.user_info.append({'start': user[0], 'destination': user[1]})\n",
    "        print(f\"\\nUser {user} enters the elevator\") #e.g. \"user(1, 10) --> 1 = start, 10 = destination\n",
    "    \n",
    "    def cancel_user(self, user):\n",
    "        self.user_database.remove(user)\n",
    "        print(f\"User {user} left the elevator\\n\") #e.g. \"user(1, 10) --> 1 = start, 10 = destination\n",
    "\n",
    "#SIMULATION!\n",
    "\n",
    "    def simulate(self, num_users):\n",
    "        self.log(\"--- ELEVATOR ---\\nLet's start the simulation. Elevator, let's go!!!\\nThe elevator starts at the ground floor.\\n\\nSTART:\")\n",
    "        for i in range(num_users):\n",
    "            call_floor = random.randint(self.ground, self.top) #chooses random floor (range: ground floor to top floor)\n",
    "            destination_floor = random.randint(self.ground, self.top) #chooses random floor (range: ground floor to top floor)\n",
    "            while destination_floor == call_floor:\n",
    "                destination_floor = random.randint(self.ground, self.top) #chooses random floor (range: ground floor to top floor)\n",
    "            self.call_elevator(call_floor)\n",
    "            self.register((call_floor, destination_floor)) #registers users who enter the elevator\n",
    "            self.destination(destination_floor)\n",
    "            self.cancel_user((call_floor, destination_floor)) #removes user\n",
    "            self.floor_count[destination_floor] += 1 #floor count\n",
    "        self.log(\"All passengers left the elevator. WAITING for the next simulation.\\n\")\n",
    "        self.log(f\"Number of stops per floor: {self.floor_count}\")"
   ]
  },
  {
   "cell_type": "code",
   "execution_count": 20,
   "metadata": {},
   "outputs": [
    {
     "name": "stdout",
     "output_type": "stream",
     "text": [
      "--- ELEVATOR ---\n",
      "Let's start the simulation. Elevator, let's go!!!\n",
      "The elevator starts at the ground floor.\n",
      "\n",
      "START:\n",
      "Called to floor 3\n",
      "UP!\n",
      "Current location: floor 1\n",
      "UP!\n",
      "Current location: floor 2\n",
      "UP!\n",
      "Current location: floor 3\n",
      "Doors open on floor 3\n",
      "\n",
      "User (3, 1) enters the elevator\n",
      "Button pushed by user --> DESTINATION: floor 1\n",
      "DOWN!\n",
      "Current location: floor 2\n",
      "DOWN!\n",
      "Current location: floor 1\n",
      "Doors open on floor 1\n",
      "User (3, 1) left the elevator\n",
      "\n",
      "Called to floor 3\n",
      "UP!\n",
      "Current location: floor 2\n",
      "UP!\n",
      "Current location: floor 3\n",
      "Doors open on floor 3\n",
      "\n",
      "User (3, 2) enters the elevator\n",
      "Button pushed by user --> DESTINATION: floor 2\n",
      "DOWN!\n",
      "Current location: floor 2\n",
      "Doors open on floor 2\n",
      "User (3, 2) left the elevator\n",
      "\n",
      "Called to floor 1\n",
      "DOWN!\n",
      "Current location: floor 1\n",
      "Doors open on floor 1\n",
      "\n",
      "User (1, 4) enters the elevator\n",
      "Button pushed by user --> DESTINATION: floor 4\n",
      "UP!\n",
      "Current location: floor 2\n",
      "UP!\n",
      "Current location: floor 3\n",
      "UP!\n",
      "Current location: floor 4\n",
      "Doors open on floor 4\n",
      "User (1, 4) left the elevator\n",
      "\n",
      "Called to floor 3\n",
      "DOWN!\n",
      "Current location: floor 3\n",
      "Doors open on floor 3\n",
      "\n",
      "User (3, 0) enters the elevator\n",
      "Button pushed by user --> DESTINATION: floor 0\n",
      "DOWN!\n",
      "Current location: floor 2\n",
      "DOWN!\n",
      "Current location: floor 1\n",
      "DOWN!\n",
      "Current location: floor 0\n",
      "Doors open on floor 0\n",
      "User (3, 0) left the elevator\n",
      "\n",
      "Called to floor 1\n",
      "UP!\n",
      "Current location: floor 1\n",
      "Doors open on floor 1\n",
      "\n",
      "User (1, 2) enters the elevator\n",
      "Button pushed by user --> DESTINATION: floor 2\n",
      "UP!\n",
      "Current location: floor 2\n",
      "Doors open on floor 2\n",
      "User (1, 2) left the elevator\n",
      "\n",
      "Called to floor 4\n",
      "UP!\n",
      "Current location: floor 3\n",
      "UP!\n",
      "Current location: floor 4\n",
      "Doors open on floor 4\n",
      "\n",
      "User (4, 2) enters the elevator\n",
      "Button pushed by user --> DESTINATION: floor 2\n",
      "DOWN!\n",
      "Current location: floor 3\n",
      "DOWN!\n",
      "Current location: floor 2\n",
      "Doors open on floor 2\n",
      "User (4, 2) left the elevator\n",
      "\n",
      "Called to floor 1\n",
      "DOWN!\n",
      "Current location: floor 1\n",
      "Doors open on floor 1\n",
      "\n",
      "User (1, 0) enters the elevator\n",
      "Button pushed by user --> DESTINATION: floor 0\n",
      "DOWN!\n",
      "Current location: floor 0\n",
      "Doors open on floor 0\n",
      "User (1, 0) left the elevator\n",
      "\n",
      "Called to floor 0\n",
      "Doors open on floor 0\n",
      "\n",
      "User (0, 4) enters the elevator\n",
      "Button pushed by user --> DESTINATION: floor 4\n",
      "UP!\n",
      "Current location: floor 1\n",
      "UP!\n",
      "Current location: floor 2\n",
      "UP!\n",
      "Current location: floor 3\n",
      "UP!\n",
      "Current location: floor 4\n",
      "Doors open on floor 4\n",
      "User (0, 4) left the elevator\n",
      "\n",
      "Called to floor 5\n",
      "UP!\n",
      "Current location: floor 5\n",
      "Doors open on floor 5\n",
      "\n",
      "User (5, 3) enters the elevator\n",
      "Button pushed by user --> DESTINATION: floor 3\n",
      "DOWN!\n",
      "Current location: floor 4\n",
      "DOWN!\n",
      "Current location: floor 3\n",
      "Doors open on floor 3\n",
      "User (5, 3) left the elevator\n",
      "\n",
      "Called to floor 5\n",
      "UP!\n",
      "Current location: floor 4\n",
      "UP!\n",
      "Current location: floor 5\n",
      "Doors open on floor 5\n",
      "\n",
      "User (5, 0) enters the elevator\n",
      "Button pushed by user --> DESTINATION: floor 0\n",
      "DOWN!\n",
      "Current location: floor 4\n",
      "DOWN!\n",
      "Current location: floor 3\n",
      "DOWN!\n",
      "Current location: floor 2\n",
      "DOWN!\n",
      "Current location: floor 1\n",
      "DOWN!\n",
      "Current location: floor 0\n",
      "Doors open on floor 0\n",
      "User (5, 0) left the elevator\n",
      "\n",
      "All passengers left the elevator. WAITING for the next simulation.\n",
      "\n",
      "Number of stops per floor: {0: 3, 1: 1, 2: 3, 3: 1, 4: 2, 5: 0}\n"
     ]
    }
   ],
   "source": [
    "#START the simulation\n",
    "\n",
    "elevator = Elevator(0, 5) # Elevator(ground floor, top floor)\n",
    "elevator.simulate(10) #number of users --> elevator.simulate(number of users)"
   ]
  },
  {
   "cell_type": "code",
   "execution_count": 21,
   "metadata": {},
   "outputs": [],
   "source": [
    "# print --> elevator.memory (What happened?)\n",
    "\n",
    "#print(elevator.memory)"
   ]
  },
  {
   "cell_type": "code",
   "execution_count": 22,
   "metadata": {},
   "outputs": [
    {
     "name": "stdout",
     "output_type": "stream",
     "text": [
      "[0, 1, 2, 3, 2, 1, 2, 3, 2, 1, 2, 3, 4, 3, 2, 1, 0, 1, 2, 3, 4, 3, 2, 1, 0, 1, 2, 3, 4, 5, 4, 3, 4, 5, 4, 3, 2, 1, 0]\n"
     ]
    }
   ],
   "source": [
    "print(elevator.location) #shows the order of visited floors"
   ]
  },
  {
   "cell_type": "code",
   "execution_count": 23,
   "metadata": {},
   "outputs": [
    {
     "name": "stdout",
     "output_type": "stream",
     "text": [
      "LOGBOOK:\n",
      "\n",
      "User: 1 / Start: 3, Destination: 1\n",
      "User: 2 / Start: 3, Destination: 2\n",
      "User: 3 / Start: 1, Destination: 4\n",
      "User: 4 / Start: 3, Destination: 0\n",
      "User: 5 / Start: 1, Destination: 2\n",
      "User: 6 / Start: 4, Destination: 2\n",
      "User: 7 / Start: 1, Destination: 0\n",
      "User: 8 / Start: 0, Destination: 4\n",
      "User: 9 / Start: 5, Destination: 3\n",
      "User: 10 / Start: 5, Destination: 0\n"
     ]
    }
   ],
   "source": [
    "# LOGBOOK: stores user information; start and destination are included\n",
    "\n",
    "elevator.logbook()"
   ]
  },
  {
   "cell_type": "code",
   "execution_count": 24,
   "metadata": {},
   "outputs": [
    {
     "name": "stdout",
     "output_type": "stream",
     "text": [
      "{0: 3, 1: 1, 2: 3, 3: 1, 4: 2, 5: 0}\n"
     ]
    }
   ],
   "source": [
    "# Which floors were visited/chosen by the users?\n",
    "\n",
    "print(elevator.floor_count)"
   ]
  },
  {
   "cell_type": "code",
   "execution_count": 26,
   "metadata": {},
   "outputs": [
    {
     "data": {
      "image/png": "[encoded data removed]",
      "text/plain": [
       "<Figure size 576x432 with 1 Axes>"
      ]
     },
     "metadata": {},
     "output_type": "display_data"
    }
   ],
   "source": [
    "data = elevator.floor_count\n",
    "names = list(data.keys())\n",
    "values = list(data.values())\n",
    "\n",
    "fig, ax = plt.subplots(figsize=(8,6))\n",
    "plt.style.use(\"grayscale\")\n",
    "\n",
    "#ax.bar(bar_labels, counts)\n",
    "plt.xlabel(\"Floors\")\n",
    "plt.ylabel(\"Count\")\n",
    "ax.set_title('Elevator simulation - 10 users')\n",
    "ax.title.set_size(16)\n",
    "plt.bar(range(len(data)), values, tick_label=names)\n",
    "\n",
    "plt.show()"
   ]
  },
  {
   "cell_type": "code",
   "execution_count": null,
   "metadata": {},
   "outputs": [],
   "source": []
  }
 ],
 "metadata": {
  "kernelspec": {
   "display_name": "Python 3 (ipykernel)",
   "language": "python",
   "name": "python3"
  },
  "language_info": {
   "codemirror_mode": {
    "name": "ipython",
    "version": 3
   },
   "file_extension": ".py",
   "mimetype": "text/x-python",
   "name": "python",
   "nbconvert_exporter": "python",
   "pygments_lexer": "ipython3",
   "version": "3.9.12"
  }
 },
 "nbformat": 4,
 "nbformat_minor": 4
}
