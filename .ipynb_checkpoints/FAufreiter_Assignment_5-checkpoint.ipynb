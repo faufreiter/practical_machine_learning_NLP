{
 "cells": [
  {
   "cell_type": "markdown",
   "metadata": {},
   "source": [
    "# Assignment done by: Felix Aufreiter (1251759)"
   ]
  },
  {
   "cell_type": "markdown",
   "metadata": {},
   "source": [
    "<img src=\"https://communications.univie.ac.at/fileadmin/_processed_/csm_Uni_Logo_2016_2f47aacf37.jpg\" \n",
    "     alt=\"Logo Universität Wien\" \n",
    "     width=\"200\"/>\n",
    "\n",
    "# Practical Machine Learning for Natural Language Processing - 2023 SS  \n",
    "\n",
    "### Assigment 1 - Python for Poets  \n",
    "\n",
    "This assigment is an adaptation for Python of the original exercise [\"Unix for Poets\"](https://www.cs.upc.edu/~padro/Unixforpoets.pdf)"
   ]
  },
  {
   "cell_type": "markdown",
   "metadata": {},
   "source": [
    "***"
   ]
  },
  {
   "cell_type": "markdown",
   "metadata": {},
   "source": [
    "### Loading the document"
   ]
  },
  {
   "cell_type": "code",
   "execution_count": 1,
   "metadata": {},
   "outputs": [
    {
     "name": "stdout",
     "output_type": "stream",
     "text": [
      "KBR said Friday the global economic downturn so far has\n",
      "had\n",
      "little effect on its business but warned some projects on its books\n",
      "could be in jeopardy if the headwinds persist into next year.\n",
      "\n",
      "\"With the economic outlook remaining uncertain, it is possible\n",
      "that\n",
      "customers may cancel or delay projects that are under way,\" said\n",
      "William\n",
      "Utt, chief executive of the Houston-based engineering and\n",
      "construction\n",
      "giant and government contractor.\n",
      "\n",
      "He did not predict how much of the company's $15.3billion in\n",
      "fu\n"
     ]
    }
   ],
   "source": [
    "f = open('../practical_machine_learning_NLP/assignment/nyt_200811.txt', 'r')\n",
    "text = f.read()\n",
    "\n",
    "print(text[0:500])"
   ]
  },
  {
   "cell_type": "markdown",
   "metadata": {},
   "source": [
    "<span style='background: yellow'> Used</span> **notebooks**: \n",
    "\n",
    "Dealing with files: **08_Data_Persistence**"
   ]
  },
  {
   "cell_type": "markdown",
   "metadata": {},
   "source": [
    "***"
   ]
  },
  {
   "cell_type": "markdown",
   "metadata": {},
   "source": [
    "### You will solve the following exercises using **Pure Python** (only package \"string\" is allowed).  \n",
    "1. Count words in a text  \n",
    "2. Sort a list of words in various ways  \n",
    "   • ascii order   \n",
    "   • \"rhyming\" order   \n",
    "3. Extract useful info for a dictionary  \n",
    "4. Compute ngram statistics  \n",
    "5. Make a Concordance  "
   ]
  },
  {
   "cell_type": "markdown",
   "metadata": {},
   "source": [
    "<span style='background: yellow'> Used</span> **NOTE**: \n",
    "\n",
    "Python String Methods https://www.w3schools.com/python/python_ref_string.asp"
   ]
  },
  {
   "cell_type": "markdown",
   "metadata": {},
   "source": [
    "***"
   ]
  },
  {
   "cell_type": "code",
   "execution_count": 2,
   "metadata": {},
   "outputs": [],
   "source": [
    "#importing packages\n",
    "\n",
    "import re\n",
    "import string"
   ]
  },
  {
   "cell_type": "markdown",
   "metadata": {},
   "source": [
    "#### 1. Count words in a text\n",
    "\n",
    "a. Output a list of words in the file along with their frequency counts (ignoring case).   \n",
    "b. Count how many unique words there are (ignoring case).    \n",
    "c. Check how common are all different sequences of vowels (e.g. the sequences \"ieu\" or just \"e\" in \"lieutenant\")?"
   ]
  },
  {
   "cell_type": "markdown",
   "metadata": {},
   "source": [
    "#### a. Output a list of words in the file along with their frequency counts (ignoring case).   "
   ]
  },
  {
   "cell_type": "code",
   "execution_count": 3,
   "metadata": {},
   "outputs": [
    {
     "name": "stdout",
     "output_type": "stream",
     "text": [
      "!\"#$%&'()*+,-./:;<=>?@[\\]^_`{|}~\n"
     ]
    }
   ],
   "source": [
    "print(string.punctuation)"
   ]
  },
  {
   "cell_type": "code",
   "execution_count": 4,
   "metadata": {},
   "outputs": [
    {
     "name": "stdout",
     "output_type": "stream",
     "text": [
      "Words: 3508213\n"
     ]
    }
   ],
   "source": [
    "# COUNT words of the text\n",
    "count = 0\n",
    "\n",
    "for line in text:\n",
    "    word = line.split(\" \")\n",
    "    count += len(word)\n",
    "  \n",
    "print(\"Words: \" + str(count))"
   ]
  },
  {
   "cell_type": "code",
   "execution_count": 5,
   "metadata": {
    "tags": []
   },
   "outputs": [
    {
     "data": {
      "text/plain": [
       "'KBR said Friday the global economic downturn so far has had little effect on its business but warned some projects on its books could be in jeopardy if the headwinds persist into next year.  \"With the economic outlook remaining uncertain, it is possible that c'"
      ]
     },
     "execution_count": 5,
     "metadata": {},
     "output_type": "execute_result"
    }
   ],
   "source": [
    "# remove punctuation and \"\\n\"\n",
    "\n",
    "for character in string.punctuation:\n",
    "    text_withoutpunct = text.replace(character, '')\n",
    "    \n",
    "text_withoutpunct_2 = text_withoutpunct.replace(\"\\n\", \" \")\n",
    "\n",
    "text_withoutpunct_2[0:260]"
   ]
  },
  {
   "cell_type": "code",
   "execution_count": 6,
   "metadata": {},
   "outputs": [
    {
     "name": "stdout",
     "output_type": "stream",
     "text": [
      "kbr said friday the global economic downturn so far has had little effect on its business but warned some projects on its books could be in jeopardy if the headwinds persist into next year.  \"with the economic outlook remaining uncertain, it is possible that customers may cancel or delay projects that are under way,\" said william utt, chief executive of the houston-based engineering and construction giant and government contractor.  he did not predict how much of the company's $15.3billion in fu\n"
     ]
    }
   ],
   "source": [
    "#lowercase \n",
    "\n",
    "text_lower = text_withoutpunct_2.lower()\n",
    "print(text_lower[0:500]) "
   ]
  },
  {
   "cell_type": "code",
   "execution_count": 7,
   "metadata": {},
   "outputs": [
    {
     "name": "stdout",
     "output_type": "stream",
     "text": [
      "['kbr', 'said', 'friday', 'the', 'global', 'economic', 'downturn', 'so', 'far', 'has', 'had', 'little', 'effect', 'on', 'its', 'business', 'but', 'warned', 'some', 'projects', 'on', 'its', 'books', 'could', 'be', 'in', 'jeopardy', 'if', 'the', 'headwinds', 'persist', 'into', 'next', 'year.', '\"with', 'the', 'economic', 'outlook', 'remaining', 'uncertain,', 'it', 'is', 'possible', 'that', 'customers', 'may', 'cancel', 'or', 'delay', 'projects', 'that', 'are', 'under', 'way,\"', 'said', 'william', 'utt,', 'chief', 'executive', 'of', 'the', 'houston-based', 'engineering', 'and', 'construction', 'giant', 'and', 'government', 'contractor.', 'he', 'did', 'not', 'predict', 'how', 'much', 'of', 'the', \"company's\", '$15.3billion', 'in', 'future', 'business', 'commitments', 'could', 'be', 'affected', 'but', 'downplayed', 'the', 'potential', 'of', 'any', 'significant', 'impact', 'as', '\"limited.\"', 'the', 'remarks', 'came', 'during']\n"
     ]
    }
   ],
   "source": [
    "#split text\n",
    "\n",
    "words = text_lower.split()\n",
    "print(words[0:100])"
   ]
  },
  {
   "cell_type": "code",
   "execution_count": 8,
   "metadata": {},
   "outputs": [],
   "source": [
    "counted_words = {} #dictionary \n",
    "\n",
    "for word in words:\n",
    "            if word not in counted_words:\n",
    "                counted_words[word] = 1\n",
    "            else:\n",
    "                counted_words[word] += 1\n",
    "            \n",
    "#print(counted_words)"
   ]
  },
  {
   "cell_type": "code",
   "execution_count": 9,
   "metadata": {},
   "outputs": [
    {
     "name": "stdout",
     "output_type": "stream",
     "text": [
      "[('the', 29333), ('a', 13109), ('to', 12770), ('of', 12521), ('and', 12134), ('in', 11043), ('that', 5675), ('for', 5072), ('on', 4177), ('is', 4176), ('he', 3824), ('with', 3475), ('was', 3405), ('at', 3040), ('as', 2963), ('his', 2761), ('it', 2718), ('have', 2409), ('but', 2397), ('be', 2383), ('by', 2334), ('said', 2204), ('has', 2166), ('are', 2154), ('from', 2069), ('an', 2030), ('not', 2005), ('who', 1785), ('they', 1739), ('this', 1625), ('had', 1565), ('--', 1552), ('their', 1489), ('i', 1424), ('about', 1394), ('or', 1345), ('will', 1340), ('more', 1292), ('were', 1275), ('one', 1201), ('would', 1172), ('new', 1170), ('we', 1151), ('when', 1133), ('been', 1127), ('said.', 1117), ('she', 1108), ('you', 1000), ('if', 975), ('her', 973)]\n"
     ]
    }
   ],
   "source": [
    "#sorted dictionary (descending)\n",
    "\n",
    "sorted_word_count = sorted(counted_words.items(), key=lambda x: x[1], reverse=True)\n",
    "print(sorted_word_count[0:50])"
   ]
  },
  {
   "cell_type": "markdown",
   "metadata": {},
   "source": [
    "#### b. Count how many unique words there are (ignoring case).    "
   ]
  },
  {
   "cell_type": "code",
   "execution_count": 10,
   "metadata": {},
   "outputs": [
    {
     "name": "stdout",
     "output_type": "stream",
     "text": [
      "Unique words in the file nyt_200811.txt: 54176\n"
     ]
    }
   ],
   "source": [
    "#create set\n",
    "unique_words = set()\n",
    "\n",
    "#adding words to set \"unique_words\"\n",
    "for word in words:\n",
    "    unique_words.add(word)\n",
    "    \n",
    "#count the number of \"unique_words\"\n",
    "number_unique_words = len(unique_words)\n",
    "print(\"Unique words in the file nyt_200811.txt:\", number_unique_words)"
   ]
  },
  {
   "cell_type": "markdown",
   "metadata": {},
   "source": [
    "#### c. Check how common are all different sequences of vowels (e.g. the sequences \"ieu\" or just \"e\" in \"lieutenant\")?"
   ]
  },
  {
   "cell_type": "markdown",
   "metadata": {},
   "source": [
    "<span style='background: yellow'> Additional</span> **links**: \n",
    "* count vowels https://www.geeksforgeeks.org/python-count-display-vowels-string/\n",
    "* Python regex https://www.w3schools.com/python/python_regex.asp"
   ]
  },
  {
   "cell_type": "code",
   "execution_count": 11,
   "metadata": {
    "tags": []
   },
   "outputs": [
    {
     "data": {
      "text/plain": [
       "['ai', 'i', 'a', 'e', 'o', 'a', 'e', 'o', 'o', 'i']"
      ]
     },
     "execution_count": 11,
     "metadata": {},
     "output_type": "execute_result"
    }
   ],
   "source": [
    "# check all different sequences of vowels with regex\n",
    "\n",
    "sequences_of_vowels = re.findall(\"[aeiou]+\", text)\n",
    "sequences_of_vowels[0:10]"
   ]
  },
  {
   "cell_type": "code",
   "execution_count": 12,
   "metadata": {},
   "outputs": [],
   "source": [
    "# count the occurences\n",
    "\n",
    "counted_vowels = {} #dictionary \n",
    "\n",
    "for occurence in sequences_of_vowels:\n",
    "            if occurence not in counted_vowels:\n",
    "                counted_vowels[occurence] = 1\n",
    "            else:\n",
    "                counted_vowels[occurence] += 1\n",
    "#(counted_vowels)"
   ]
  },
  {
   "cell_type": "code",
   "execution_count": 13,
   "metadata": {},
   "outputs": [
    {
     "name": "stdout",
     "output_type": "stream",
     "text": [
      "[('e', 239021), ('a', 165405), ('o', 132685), ('i', 128438), ('u', 34034), ('ou', 16532), ('ea', 14047), ('ai', 10381), ('io', 10369), ('ee', 7915), ('ie', 6345), ('ia', 5259), ('oo', 4949), ('ei', 3254), ('ue', 2365), ('au', 2136), ('oi', 1978), ('ua', 1763), ('oa', 1608), ('eo', 1561), ('ui', 1520), ('oe', 726), ('iou', 505), ('eu', 301), ('iu', 218), ('ae', 204), ('eau', 131), ('uo', 79), ('ao', 68), ('oui', 60), ('eou', 60), ('eei', 59), ('uee', 56), ('uie', 44), ('aa', 41), ('aeu', 25), ('aii', 23), ('uou', 22), ('ieu', 19), ('ii', 10), ('uu', 10), ('uea', 7), ('aiia', 7), ('uai', 7), ('oei', 7), ('ooe', 6), ('ooi', 5), ('oia', 5), ('ioia', 4), ('eie', 3)]\n"
     ]
    }
   ],
   "source": [
    "#sorted dictionary (descending)\n",
    "\n",
    "sorted_vowel_count = sorted(counted_vowels.items(), key=lambda x: x[1], reverse=True)\n",
    "print(sorted_vowel_count[0:50])"
   ]
  },
  {
   "cell_type": "markdown",
   "metadata": {},
   "source": [
    "#### 2. Sorting and reversing lines of text\n",
    "\n",
    "a. Sort each line alphabetically (ignoring case).  \n",
    "b. Sort in numeric ([ascii](https://python-reference.readthedocs.io/en/latest/docs/str/ASCII.html)) order.  \n",
    "c. Alphabetically reverse sort (ignoring case).  \n",
    "d. Sort in reverse numeric ([ascii](https://python-reference.readthedocs.io/en/latest/docs/str/ASCII.html)) order.  "
   ]
  },
  {
   "cell_type": "markdown",
   "metadata": {},
   "source": [
    "<span style='background: yellow'> Additional</span> **links**: \n",
    "* https://www.learnbyexample.org/python-list-sort-method/\n",
    "* https://learnpython.com/blog/sort-alphabetically-in-python/"
   ]
  },
  {
   "cell_type": "code",
   "execution_count": 14,
   "metadata": {
    "tags": []
   },
   "outputs": [
    {
     "data": {
      "text/plain": [
       "['KBR said Friday the global economic downturn so far has',\n",
       " 'had',\n",
       " 'little effect on its business but warned some projects on its books',\n",
       " 'could be in jeopardy if the headwinds persist into next year.',\n",
       " '',\n",
       " '\"With the economic outlook remaining uncertain, it is possible',\n",
       " 'that',\n",
       " 'customers may cancel or delay projects that are under way,\" said',\n",
       " 'William',\n",
       " 'Utt, chief executive of the Houston-based engineering and']"
      ]
     },
     "execution_count": 14,
     "metadata": {},
     "output_type": "execute_result"
    }
   ],
   "source": [
    "#split text into lines\n",
    "text_splitlines = text.splitlines()\n",
    "text_splitlines[0:10]"
   ]
  },
  {
   "cell_type": "code",
   "execution_count": 15,
   "metadata": {
    "tags": []
   },
   "outputs": [
    {
     "data": {
      "text/plain": [
       "['ãº1.8', 'zwick,', 'zwick', 'zwerin,', 'zuttah']"
      ]
     },
     "execution_count": 15,
     "metadata": {},
     "output_type": "execute_result"
    }
   ],
   "source": [
    "#NO need to sort each word in every line alphabetically\n",
    "#Sort ONLY the order of the lines\n",
    "\n",
    "words.sort()\n",
    "words.reverse()\n",
    "words[0:5]\n",
    "# reverse numeric order"
   ]
  },
  {
   "cell_type": "markdown",
   "metadata": {},
   "source": [
    "<span style='background:yellow'> Additional</span> **links**: \n",
    "* https://www.learnbyexample.org/python-list-sort-method/\n",
    "\n",
    "**Sort method:** \n",
    "* ASCII order, sort() "
   ]
  },
  {
   "cell_type": "code",
   "execution_count": 16,
   "metadata": {},
   "outputs": [
    {
     "data": {
      "text/plain": [
       "['', '', '', '', '', '', '', '', '', '']"
      ]
     },
     "execution_count": 16,
     "metadata": {},
     "output_type": "execute_result"
    }
   ],
   "source": [
    "# a) Sort each line alphabetically (ignoring case).\n",
    "\n",
    "text_splitlines.sort(key=str.lower, reverse = False)\n",
    "text_splitlines[0:10]"
   ]
  },
  {
   "cell_type": "code",
   "execution_count": 17,
   "metadata": {
    "tags": []
   },
   "outputs": [
    {
     "name": "stdout",
     "output_type": "stream",
     "text": [
      "['            the left      the middle      the right', '       11th district (parts of queens): james gennaro (d)', '       15th district (parts of queens): joseph addabbo (d)', '      \"coach\\'s decision,\" marbury said.', '      \"coach\\'s decision,\" marbury said.', '      \"coach\\'s decision,\" marbury said.', '      \"we need to expect it,\" camarillo said. \"we need to reach for', '      \"we serve the saved and the unsaved.\"', '      &amp;lt;/td&gt;&amp;lt;/tr&gt;&amp;lt;tr&gt;&amp;lt;td&gt;senators', '      &amp;lt;/td&gt;&amp;lt;td&gt;0']\n"
     ]
    }
   ],
   "source": [
    "# NOT SURE if this is the right way to remove blank spaces/lines, I just wanted to create a more \"beautiful\" list\n",
    "\n",
    "lines_withoutblankspaces = [line.lower() for line in text_splitlines if line.strip()]\n",
    "lines_withoutblankspaces.sort(reverse=False)\n",
    "print(lines_withoutblankspaces[0:10])\n",
    "\n",
    "#NOT really a \"beautiful\" list... MORE cleaning would be necessary"
   ]
  },
  {
   "cell_type": "code",
   "execution_count": 18,
   "metadata": {},
   "outputs": [
    {
     "data": {
      "text/plain": [
       "['            the left      the middle      the right',\n",
       " '       11th district (parts of queens): james gennaro (d)',\n",
       " '       15th district (parts of queens): joseph addabbo (d)',\n",
       " '      \"coach\\'s decision,\" marbury said.',\n",
       " '      \"coach\\'s decision,\" marbury said.',\n",
       " '      \"coach\\'s decision,\" marbury said.',\n",
       " '      \"we need to expect it,\" camarillo said. \"we need to reach for',\n",
       " '      \"we serve the saved and the unsaved.\"',\n",
       " '      &amp;lt;/td&gt;&amp;lt;/tr&gt;&amp;lt;tr&gt;&amp;lt;td&gt;senators',\n",
       " '      &amp;lt;/td&gt;&amp;lt;td&gt;0']"
      ]
     },
     "execution_count": 18,
     "metadata": {},
     "output_type": "execute_result"
    }
   ],
   "source": [
    "# b) Sort in numeric (ascii) order.\n",
    "\n",
    "#ASCII order \n",
    "\n",
    "ascii_order = sorted(lines_withoutblankspaces, reverse = False)\n",
    "ascii_order[0:10]"
   ]
  },
  {
   "cell_type": "code",
   "execution_count": 19,
   "metadata": {},
   "outputs": [
    {
     "data": {
      "text/plain": [
       "['Zutell, of the Office of Insurance Regulation, noted a problem',\n",
       " 'Zurich.',\n",
       " 'Zuma, speaking in Soweto, seized on the notion of the dissidents',\n",
       " \"Zorn, Buffalo's Dick Jauron, Miami's Tony Sparano and, yes, even\",\n",
       " \"zone. Coaches such as the late Bill Walsh and the Seahawks' Mike\",\n",
       " 'zone, on first down. Moreno was stuffed on an uninspired run on',\n",
       " \"zone with the Giants' fourth touchdown and a 28-7 lead. The rest of\",\n",
       " 'zone for a 13-7 lead.',\n",
       " 'Zogby concedes that \"a letdown will come eventually.',\n",
       " 'Zobel Nolan, who has written more than 150 books, was a senior']"
      ]
     },
     "execution_count": 19,
     "metadata": {},
     "output_type": "execute_result"
    }
   ],
   "source": [
    "# c) Alphabetically reverse sort (ignoring case).  \n",
    "\n",
    "text_splitlines.sort(key=str.lower, reverse = True)\n",
    "text_splitlines[0:10]"
   ]
  },
  {
   "cell_type": "code",
   "execution_count": 20,
   "metadata": {},
   "outputs": [
    {
     "data": {
      "text/plain": [
       "[\"zone. Coaches such as the late Bill Walsh and the Seahawks' Mike\",\n",
       " 'zone, on first down. Moreno was stuffed on an uninspired run on',\n",
       " \"zone with the Giants' fourth touchdown and a 28-7 lead. The rest of\",\n",
       " 'zone for a 13-7 lead.',\n",
       " 'zingers to warm things up between numbers. Johnny, unhappy about',\n",
       " 'zingers and market-tested answers, prolonged exposure revealed',\n",
       " 'zigzagged',\n",
       " 'zero.\" (The question was not predicated on whether Obama would win',\n",
       " 'zero\" chance of her becoming Senate majority leader. Several',\n",
       " 'youth.']"
      ]
     },
     "execution_count": 20,
     "metadata": {},
     "output_type": "execute_result"
    }
   ],
   "source": [
    "# d) Sort in reverse numeric (ASCII) order. \n",
    "\n",
    "ascii_order_reverse = sorted(text_splitlines, reverse = True)\n",
    "ascii_order_reverse[0:10]"
   ]
  },
  {
   "cell_type": "markdown",
   "metadata": {},
   "source": [
    "#### 3. Computing basic statistics\n",
    "\n",
    "a. Find the 50 most common words  \n",
    "b. Find the words in the NYT that end in \"zz\"  \n",
    "c. Count the lines, the words, and the characters  \n",
    "d. How many all uppercase words are there in this NYT file?  \n",
    "e, How many 4-letter words?  \n",
    "f. How many different words are there with no vowels?  \n",
    "g. **tricky:** How many “1 syllable” words are there?  "
   ]
  },
  {
   "cell_type": "code",
   "execution_count": 21,
   "metadata": {},
   "outputs": [
    {
     "name": "stdout",
     "output_type": "stream",
     "text": [
      "[('the', 29333), ('a', 13109), ('to', 12770), ('of', 12521), ('and', 12134), ('in', 11043), ('that', 5675), ('for', 5072), ('on', 4177), ('is', 4176), ('he', 3824), ('with', 3475), ('was', 3405), ('at', 3040), ('as', 2963), ('his', 2761), ('it', 2718), ('have', 2409), ('but', 2397), ('be', 2383), ('by', 2334), ('said', 2204), ('has', 2166), ('are', 2154), ('from', 2069), ('an', 2030), ('not', 2005), ('who', 1785), ('they', 1739), ('this', 1625), ('had', 1565), ('--', 1552), ('their', 1489), ('i', 1424), ('about', 1394), ('or', 1345), ('will', 1340), ('more', 1292), ('were', 1275), ('one', 1201), ('would', 1172), ('new', 1170), ('we', 1151), ('when', 1133), ('been', 1127), ('said.', 1117), ('she', 1108), ('you', 1000), ('if', 975), ('her', 973)]\n"
     ]
    }
   ],
   "source": [
    "# a) Find the 50 most common words\n",
    "\n",
    "#sorted dictionary (descending)\n",
    "\n",
    "sorted_word_count = sorted(counted_words.items(), key=lambda x: x[1], reverse=True)\n",
    "print(sorted_word_count[0:50])"
   ]
  },
  {
   "cell_type": "code",
   "execution_count": 22,
   "metadata": {
    "tags": []
   },
   "outputs": [
    {
     "data": {
      "text/plain": [
       "['buzz',\n",
       " 'buzz',\n",
       " 'jazz',\n",
       " 'buzz',\n",
       " 'buzz',\n",
       " 'jazz',\n",
       " 'Jazz',\n",
       " 'jazz',\n",
       " 'jazz',\n",
       " 'jazz',\n",
       " 'jazz',\n",
       " 'jazz',\n",
       " 'Buzz',\n",
       " 'Buzz',\n",
       " 'Buzz',\n",
       " 'Jazz',\n",
       " 'buzz',\n",
       " 'Jazz',\n",
       " 'pizazz',\n",
       " 'Buzz',\n",
       " 'buzz',\n",
       " 'Jazz',\n",
       " 'buzz']"
      ]
     },
     "execution_count": 22,
     "metadata": {},
     "output_type": "execute_result"
    }
   ],
   "source": [
    "# b) Find the words in the NYT that end in \"zz\" \n",
    "\n",
    "re.findall(r\"\\b\\w*[z][z]\\b\", text)"
   ]
  },
  {
   "cell_type": "code",
   "execution_count": 29,
   "metadata": {},
   "outputs": [
    {
     "data": {
      "text/plain": [
       "'kbr said friday the global economic downturn so far has\\nhad\\nlittle effect on its business but warned'"
      ]
     },
     "execution_count": 29,
     "metadata": {},
     "output_type": "execute_result"
    }
   ],
   "source": [
    "text_lower = text.lower()\n",
    "text_lower[0:100]"
   ]
  },
  {
   "cell_type": "code",
   "execution_count": 32,
   "metadata": {},
   "outputs": [
    {
     "data": {
      "text/plain": [
       "['kbr said friday the global economic downturn so far has',\n",
       " 'had',\n",
       " 'little effect on its business but warned some projects on its books',\n",
       " 'could be in jeopardy if the headwinds persist into next year.',\n",
       " '',\n",
       " '\"with the economic outlook remaining uncertain, it is possible',\n",
       " 'that',\n",
       " 'customers may cancel or delay projects that are under way,\" said',\n",
       " 'william',\n",
       " 'utt, chief executive of the houston-based engineering and']"
      ]
     },
     "execution_count": 32,
     "metadata": {},
     "output_type": "execute_result"
    }
   ],
   "source": [
    "text_splitlines_lower = text_lower.splitlines()\n",
    "text_splitlines_lower[0:10]"
   ]
  },
  {
   "cell_type": "code",
   "execution_count": 33,
   "metadata": {},
   "outputs": [
    {
     "name": "stdout",
     "output_type": "stream",
     "text": [
      "Lines: 70334\n",
      "Words: 509851\n",
      "Characters: 2596399\n"
     ]
    }
   ],
   "source": [
    "# c.) Count the lines, the words, and the characters.\n",
    "#lines\n",
    "count_lines = len(text_splitlines_lower) #lines were already created\n",
    "print(\"Lines:\",count_lines)\n",
    "\n",
    "#words\n",
    "count_words = len(words) #words were already used \n",
    "print(\"Words:\",count_words)\n",
    "\n",
    "#characters\n",
    "\n",
    "characters = list(text_withoutpunct.replace(\" \", \"\")) #using text without punctuaction and replacing blank spaces\n",
    "count_characters = len(characters)\n",
    "print(\"Characters:\",count_characters)"
   ]
  },
  {
   "cell_type": "code",
   "execution_count": 34,
   "metadata": {
    "tags": []
   },
   "outputs": [
    {
     "data": {
      "text/plain": [
       "8544"
      ]
     },
     "execution_count": 34,
     "metadata": {},
     "output_type": "execute_result"
    }
   ],
   "source": [
    "# d) How many all uppercase words are there in this NYT file?\n",
    "\n",
    "uppercase = re.findall(r\"\\b[A-Z]+\\b\", text)\n",
    "count_uppercase = len(uppercase)\n",
    "count_uppercase"
   ]
  },
  {
   "cell_type": "code",
   "execution_count": 35,
   "metadata": {},
   "outputs": [
    {
     "data": {
      "text/plain": [
       "88873"
      ]
     },
     "execution_count": 35,
     "metadata": {},
     "output_type": "execute_result"
    }
   ],
   "source": [
    "# e) How many 4-letter words?\n",
    "\n",
    "four_letter_words = re.findall(r\"\\b\\w\\w\\w\\w\\b\", text)\n",
    "count_flw = len(four_letter_words)\n",
    "count_flw"
   ]
  },
  {
   "cell_type": "code",
   "execution_count": 36,
   "metadata": {},
   "outputs": [
    {
     "data": {
      "text/plain": [
       "35496"
      ]
     },
     "execution_count": 36,
     "metadata": {},
     "output_type": "execute_result"
    }
   ],
   "source": [
    "# f) How many different words are there with no vowels?\n",
    "\n",
    "# y is seen as a vowel (english text) \n",
    "\n",
    "without_vowels = re.findall(r\"\\b([^aeiouy\\s]+)\\b\", text)\n",
    "\n",
    "without_vowels_count = len(without_vowels)\n",
    "without_vowels_count"
   ]
  },
  {
   "cell_type": "code",
   "execution_count": 37,
   "metadata": {
    "tags": []
   },
   "outputs": [
    {
     "name": "stdout",
     "output_type": "stream",
     "text": [
      " 1 syllable words with unlimited vowels, COUNT - 250161\n"
     ]
    }
   ],
   "source": [
    "# g) tricky: How many “1 syllable” words are there? \n",
    "\n",
    "#unlimited vowels are allowed\n",
    "\n",
    "one_syllable = re.findall(r\"\\b[bcdfghjklmnpqrstvwxz]*[aeiouy]+[bcdfghjklmnpqrstvwxz]*\\b\", text)\n",
    "\n",
    "one_syllable_count = len(one_syllable)\n",
    "print(f\" 1 syllable words with unlimited vowels, COUNT - {one_syllable_count}\")"
   ]
  },
  {
   "cell_type": "code",
   "execution_count": 38,
   "metadata": {},
   "outputs": [
    {
     "name": "stdout",
     "output_type": "stream",
     "text": [
      " 1 syllable words with only ONE vowel, COUNT - 107112\n"
     ]
    }
   ],
   "source": [
    "# only 1 vowel is allowed\n",
    "\n",
    "one_syllable_one_vowel = re.findall(r\"\\b[bcdfghjklmnpqrstvwxz][aeiouy]+[bcdfghjklmnpqrstvwxz]*\\b\", text)\n",
    "\n",
    "one_syllable_one_vowel_COUNT = len(one_syllable_one_vowel)\n",
    "\n",
    "print(f\" 1 syllable words with only ONE vowel, COUNT - {one_syllable_one_vowel_COUNT}\")"
   ]
  },
  {
   "cell_type": "markdown",
   "metadata": {},
   "source": [
    "# Testing regex https://regex101.com/"
   ]
  },
  {
   "cell_type": "markdown",
   "metadata": {
    "tags": []
   },
   "source": [
    "#### 4. Compute ngrams  \n",
    "\n",
    "a. Find the 10 most common bigrams  \n",
    "b. Find the 10 most common trigrams  "
   ]
  },
  {
   "cell_type": "markdown",
   "metadata": {},
   "source": [
    "additional information/sources: https://towardsdatascience.com/text-analysis-basics-in-python-443282942ec5"
   ]
  },
  {
   "cell_type": "code",
   "execution_count": 39,
   "metadata": {},
   "outputs": [
    {
     "name": "stdout",
     "output_type": "stream",
     "text": [
      "('of', 'the') : 3123\n",
      "('in', 'the') : 2727\n",
      "('to', 'the') : 1186\n",
      "('on', 'the') : 1144\n",
      "('for', 'the') : 934\n",
      "('and', 'the') : 845\n",
      "('in', 'a') : 832\n",
      "('at', 'the') : 762\n",
      "('to', 'be') : 714\n",
      "('with', 'the') : 602\n"
     ]
    }
   ],
   "source": [
    "# a) Find the 10 most common bigrams\n",
    "\n",
    "# words --> already used method: split + lower\n",
    "\n",
    "bigram_words = text_lower.split()\n",
    "\n",
    "#list for bigrams\n",
    "bigrams = []\n",
    "\n",
    "#for loop for bigrams\n",
    "for i in range(len(bigram_words)-1):\n",
    "    bigrams.append((bigram_words[i], bigram_words[i+1]))\n",
    "\n",
    "#count bigrams\n",
    "count_bigrams_dict = {}\n",
    "for bigram in bigrams:\n",
    "    if bigram in count_bigrams_dict:\n",
    "        count_bigrams_dict[bigram] += 1\n",
    "    else:\n",
    "        count_bigrams_dict[bigram] = 1\n",
    "\n",
    "#finding 10 most common bigrams\n",
    "bigrams_10 = sorted(count_bigrams_dict.items(), key=lambda x: x[1], reverse=True)\n",
    "\n",
    "for i in range(10):\n",
    "    print(bigrams_10[i][0], \":\", bigrams_10[i][1])"
   ]
  },
  {
   "cell_type": "code",
   "execution_count": 40,
   "metadata": {},
   "outputs": [
    {
     "name": "stdout",
     "output_type": "stream",
     "text": [
      "('one', 'of', 'the') : 223\n",
      "('a', 'lot', 'of') : 175\n",
      "('the', 'united', 'states') : 118\n",
      "('going', 'to', 'be') : 91\n",
      "('can', 'be', 'reached') : 91\n",
      "('as', 'well', 'as') : 90\n",
      "('be', 'reached', 'at') : 90\n",
      "('the', 'end', 'of') : 90\n",
      "('the', 'new', 'york') : 89\n",
      "('to', 'be', 'a') : 85\n"
     ]
    }
   ],
   "source": [
    "# b) Find the 10 most common TRIGRAMS\n",
    "\n",
    "# words --> already used method: split + lower\n",
    "\n",
    "trigram_words = text_lower.split()\n",
    "\n",
    "#list for trigrams\n",
    "trigrams = []\n",
    "\n",
    "#for loop: trigrams\n",
    "for t in range(len(trigram_words)-2):\n",
    "    trigrams.append((trigram_words[t], trigram_words[t+1], trigram_words[t+2]))\n",
    "\n",
    "#count trigrams\n",
    "count_trigrams_list = {}\n",
    "for trigram in trigrams:\n",
    "    if trigram in count_trigrams_list:\n",
    "        count_trigrams_list[trigram] += 1\n",
    "    else:\n",
    "        count_trigrams_list[trigram] = 1\n",
    "\n",
    "#finding 10 most common trigrams\n",
    "trigrams_10 = sorted(count_trigrams_list.items(), key=lambda x: x[1], reverse=True)\n",
    "\n",
    "for t in range(10):\n",
    "    print(trigrams_10[t][0], \":\", trigrams_10[t][1])"
   ]
  },
  {
   "cell_type": "markdown",
   "metadata": {
    "tags": []
   },
   "source": [
    "#### 5. Make a Concordance\n",
    "\n",
    "a. Create a concordance display for an arbitrary word. See the example below  \n",
    "\n",
    "![](../../Data/figs/Sample-concordance-lines-of-actually.png)"
   ]
  },
  {
   "cell_type": "code",
   "execution_count": 41,
   "metadata": {},
   "outputs": [
    {
     "name": "stdout",
     "output_type": "stream",
     "text": [
      "Arbitrary word: 242 times\n"
     ]
    }
   ],
   "source": [
    "# a)\n",
    "\n",
    "arbitrary_word = 'young'\n",
    "pos = 0 \n",
    "positions = []\n",
    "while pos != -1:\n",
    "    position = text.find(arbitrary_word,pos+1)\n",
    "    pos = position\n",
    "    positions.append(position)\n",
    "positions.pop()\n",
    "print('Arbitrary word: {} times'.format(len(positions)))"
   ]
  },
  {
   "cell_type": "code",
   "execution_count": 42,
   "metadata": {},
   "outputs": [
    {
     "name": "stdout",
     "output_type": "stream",
     "text": [
      "ldren are young.\n",
      "But same\n",
      "oping the\n",
      "younger players\n",
      "ince,\n",
      "the younger half-br\n",
      "the great young business\n",
      "etrotting young reporter,\n",
      "g to have young girls rec\n",
      "time  the young man from\n",
      "ed by her younger brother\n",
      "its \"hot, young cast, all\n",
      "s pouting youngster is no\n"
     ]
    }
   ],
   "source": [
    "# Pure Python - version (Notebook: Textual_Analysis)\n",
    "window = 10\n",
    "for position in positions[0:10]:\n",
    "    print(text[position - window:position + window + len(arbitrary_word)].strip())"
   ]
  },
  {
   "cell_type": "code",
   "execution_count": 43,
   "metadata": {},
   "outputs": [],
   "source": [
    "import nltk"
   ]
  },
  {
   "cell_type": "code",
   "execution_count": 44,
   "metadata": {},
   "outputs": [
    {
     "name": "stdout",
     "output_type": "stream",
     "text": [
      "Displaying 10 of 219 matches:\n",
      "ally if their children are young . But same - sex spouses d\n",
      " as being one of the great young business leaders in the wo\n",
      "trip about a globetrotting young reporter , with Paramount \n",
      ". \" You ' re going to have young girls recruited and brough\n",
      "with time lots of time the young man from South Lake High i\n",
      "tes rave about its \" hot , young cast , all on the verge of\n",
      "), Chace Crawford ( Joseph Young ), Jake Weber ( Robert Har\n",
      " . Parking is available at Young Middle Magnet School , 180\n",
      " one response : \" Sir ,\" a young Marine said , \" the privat\n",
      "tes would be divvied among young players , those in the Kni\n"
     ]
    }
   ],
   "source": [
    "# NLTK-Test\n",
    "\n",
    "expression = \"young\"\n",
    "tknzr = nltk.tokenize.WordPunctTokenizer()\n",
    "tokens = tknzr.tokenize(text)\n",
    "nltk_text = nltk.Text(tokens)\n",
    "nltk_text.concordance(expression.lower(), width=60, lines=10)"
   ]
  },
  {
   "cell_type": "markdown",
   "metadata": {},
   "source": [
    "***"
   ]
  },
  {
   "cell_type": "markdown",
   "metadata": {},
   "source": [
    "##### Extra Credit – Secret Message\n",
    "+ The answers to the extra credit exercises will reveal a secret message.  \n",
    "+ We will be working with the following text file for these exercises:  \n",
    "[Link to Text](https://web.stanford.edu/class/cs124/lec/secret_ec.txt)  \n",
    "(No starter code in the Extra Credit)  "
   ]
  },
  {
   "cell_type": "markdown",
   "metadata": {},
   "source": [
    "##### Extra Credit Exercise 1\n",
    "• Find the 2 most common words in secret_ec.txt containing the letter e.  \n",
    "• Your answer will correspond to the first two words of the secret message.  "
   ]
  },
  {
   "cell_type": "code",
   "execution_count": 45,
   "metadata": {},
   "outputs": [],
   "source": [
    "import urllib.request"
   ]
  },
  {
   "cell_type": "code",
   "execution_count": 46,
   "metadata": {},
   "outputs": [
    {
     "name": "stdout",
     "output_type": "stream",
     "text": [
      "enjoy omniscient defeated doubt squeak activity screw defeated bawl hair the crazy messy screeching and excellent motion the part about crazy there are puzzling foot grip object ship crazy best squeak clover motion the bubble invent somber and mint admit the somber like abashed bubble crazy help there crazy approval mundane cows it bare grip hair monkey face all enjoy object the bubble excellent it range unpack car heat toes there are clover reign the range spurious unix is birth mock crazy attraction are all ratty broad tacit sincere abashed purple they can mint queen all face and the squeak courageous the mass reign bawl best it the admit brush theory flowery meat cave car hesitant crazy laughable every toe divergent the bubble crazy the bubble tempt amount screeching excellent brush hallowed coast ratty the cave object bee activity mass bitter degree best crazy fish the bag nervous harmony doubt and part about harmony birth screeching there kneel heat the bubble grip like tacit tempt messy like clover amount half best they can wicked panoramic bare degree best part about heat best puzzling bee embarrassed thing broad soft elderly cart face squeak sincere mouth nervous it like ban screw ban all it monkey and the best symptomatic rampant motion voice unix is crazy are best face mail hallowed unix is mouth the invent the dinner best reign part about crazy best theory kneel offend admit bag wood invent cart debonair queen dinner like meat ahead theory bitter squeak crazy tendency mouth the bubble they can film motion crazy birth spade part about crazy voice ratty swanky crazy the help tacit degree part about cart queen the swanky the bubble crazy coast unix is the ahead mail heat toe and spade omniscient and tendency harmony crazy voice overjoyed all best spade range ban activity wicked heat ship somber\n"
     ]
    }
   ],
   "source": [
    "url = \"https://web.stanford.edu/class/cs124/lec/secret_ec.txt\"\n",
    "response = urllib.request.urlopen(url)\n",
    "secret_text = response.read().decode()\n",
    "print(secret_text)"
   ]
  },
  {
   "cell_type": "code",
   "execution_count": 47,
   "metadata": {},
   "outputs": [],
   "source": [
    "words_with_e = re.findall(r\"\\b\\w*e\\w*\\b\", secret_text)\n",
    "#words_with_e"
   ]
  },
  {
   "cell_type": "code",
   "execution_count": 48,
   "metadata": {},
   "outputs": [],
   "source": [
    "words_with_e_COUNT = {} #dictionary \n",
    "\n",
    "for e_word in words_with_e:\n",
    "            if e_word not in words_with_e_COUNT:\n",
    "                words_with_e_COUNT[e_word] = 1\n",
    "            else:\n",
    "                words_with_e_COUNT[e_word] += 1\n",
    "\n",
    "                \n",
    "#print(words_with_e_COUNT)"
   ]
  },
  {
   "cell_type": "code",
   "execution_count": 49,
   "metadata": {},
   "outputs": [
    {
     "name": "stdout",
     "output_type": "stream",
     "text": [
      "[('the', 22), ('best', 11)]\n"
     ]
    }
   ],
   "source": [
    "#sorted dictionary \"words_with_e_COUNT\" (descending)\n",
    "\n",
    "sorted_words_with_e_COUNT = sorted(words_with_e_COUNT.items(), key=lambda x: x[1], reverse=True)\n",
    "print(sorted_words_with_e_COUNT[0:2])"
   ]
  },
  {
   "cell_type": "markdown",
   "metadata": {},
   "source": [
    "##### Extra Credit Exercise 2\n",
    "• Find the 2 most common bigrams in secret_ec.txt where the second word in the bigram ends with a consonant.  \n",
    "• Your answer will correspond to the next four words of the secret message.  "
   ]
  },
  {
   "cell_type": "code",
   "execution_count": 50,
   "metadata": {},
   "outputs": [
    {
     "name": "stdout",
     "output_type": "stream",
     "text": [
      "TOP 2 super secret bigrams:\n",
      "('the', 'bubble') secret count: 7\n",
      "('part', 'about') secret count: 6\n",
      "('unix', 'is') secret count: 4\n",
      "('about', 'crazy') secret count: 3\n",
      "('bubble', 'crazy') secret count: 3\n",
      "('they', 'can') secret count: 3\n",
      "('motion', 'the') secret count: 2\n",
      "('there', 'are') secret count: 2\n",
      "('crazy', 'best') secret count: 2\n",
      "('and', 'the') secret count: 2\n"
     ]
    }
   ],
   "source": [
    "# secret text already in lowercase\n",
    "\n",
    "secret_word_list = secret_text.split()\n",
    "\n",
    "# list for bigrams\n",
    "secret_bigram_list = []\n",
    "\n",
    "# for loop for bigrams\n",
    "for t in range(len(secret_word_list) - 1):\n",
    "    secret_bigram_list.append((secret_word_list[t], secret_word_list[t+1]))\n",
    "\n",
    "# count bigrams\n",
    "secret_bigram_dict = {}\n",
    "for secret_bigram in secret_bigram_list:\n",
    "    if secret_bigram in secret_bigram_dict:\n",
    "        secret_bigram_dict[secret_bigram] += 1\n",
    "    else:\n",
    "        secret_bigram_dict[secret_bigram] = 1\n",
    "\n",
    "# finding 2 most common bigrams\n",
    "secret_top2 = sorted(secret_bigram_dict.items(), key=lambda x: x[1], reverse=True)[:10]\n",
    "\n",
    "print(\"TOP 2 super secret bigrams:\")\n",
    "for super_secret_bigram, secret_count in secret_top2:\n",
    "    print(f\"{super_secret_bigram} secret count: {secret_count}\")\n",
    "\n",
    "#SECRET MESSAGE: ('part', 'about'): 6; ('unix', 'is'): 4"
   ]
  },
  {
   "cell_type": "markdown",
   "metadata": {},
   "source": [
    "##### Extra Credit Exercise 3\n",
    "• Find all 5-letter-long words that only appear once in secret_ec.txt.   \n",
    "• Concatenate your result. This will be the final word of the secret message.  \n",
    "\n",
    "What is the secret message?  "
   ]
  },
  {
   "cell_type": "code",
   "execution_count": 51,
   "metadata": {},
   "outputs": [],
   "source": [
    "#5 count words; letter words --> regex; \n",
    "\n",
    "five_letter_words = re.findall(r\"\\b\\w\\w\\w\\w\\w\\b\", secret_text)\n",
    "#five_letter_words"
   ]
  },
  {
   "cell_type": "code",
   "execution_count": 52,
   "metadata": {},
   "outputs": [],
   "source": [
    "counted_wst = {} \n",
    "\n",
    "for word_st in five_letter_words:\n",
    "            if word_st not in counted_wst:\n",
    "                counted_wst[word_st] = 1\n",
    "            else:\n",
    "                counted_wst[word_st] += 1"
   ]
  },
  {
   "cell_type": "code",
   "execution_count": 53,
   "metadata": {},
   "outputs": [
    {
     "name": "stdout",
     "output_type": "stream",
     "text": [
      "[('every', 1), ('thing', 1), ('enjoy', 2), ('doubt', 2), ('screw', 2), ('messy', 2), ('broad', 2), ('brush', 2), ('tempt', 2), ('coast', 2), ('kneel', 2), ('ahead', 2), ('admit', 3), ('range', 3), ('reign', 3), ('birth', 3), ('ratty', 3), ('tacit', 3), ('queen', 3), ('mouth', 3), ('voice', 3), ('spade', 3), ('there', 4), ('about', 6), ('crazy', 17)]\n"
     ]
    }
   ],
   "source": [
    "wordcount_wst = sorted(counted_wst.items(), key=lambda x: x[1], reverse=False)\n",
    "print(wordcount_wst[0:50])"
   ]
  },
  {
   "cell_type": "code",
   "execution_count": 54,
   "metadata": {},
   "outputs": [
    {
     "data": {
      "text/plain": [
       "'everything'"
      ]
     },
     "execution_count": 54,
     "metadata": {},
     "output_type": "execute_result"
    }
   ],
   "source": [
    "# concatenate the words\n",
    "\n",
    "a = 'every'\n",
    "b = 'thing'\n",
    "secret_word = a + b\n",
    "secret_word"
   ]
  },
  {
   "cell_type": "code",
   "execution_count": 55,
   "metadata": {},
   "outputs": [],
   "source": [
    "#SOLUTION:\n",
    "\n",
    "#Exercise 1: \"the best\"\n",
    "#Exercise 2: \"part about\" + \"unix is\"\n",
    "#Exercise 3: \"everything\"\n",
    "\n",
    "#The SECRET MESSAGE: \"The best part about unix is everything\""
   ]
  },
  {
   "cell_type": "code",
   "execution_count": null,
   "metadata": {},
   "outputs": [],
   "source": []
  }
 ],
 "metadata": {
  "kernelspec": {
   "display_name": "Python 3 (ipykernel)",
   "language": "python",
   "name": "python3"
  },
  "language_info": {
   "codemirror_mode": {
    "name": "ipython",
    "version": 3
   },
   "file_extension": ".py",
   "mimetype": "text/x-python",
   "name": "python",
   "nbconvert_exporter": "python",
   "pygments_lexer": "ipython3",
   "version": "3.9.12"
  }
 },
 "nbformat": 4,
 "nbformat_minor": 4
}
