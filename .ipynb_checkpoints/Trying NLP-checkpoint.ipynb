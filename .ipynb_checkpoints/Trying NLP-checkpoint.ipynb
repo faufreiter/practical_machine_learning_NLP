{
 "cells": [
  {
   "cell_type": "markdown",
   "id": "637b4aa0-6c19-4537-9944-28382053e3ef",
   "metadata": {},
   "source": [
    "# Trying NLP\n",
    "\n",
    "## THIS IS JUST A TEST"
   ]
  },
  {
   "cell_type": "markdown",
   "id": "c12f863d-042a-46c9-a097-432e6de505d1",
   "metadata": {},
   "source": [
    "\n",
    "<span style='background :green' > **Jupyter Notebook**  </span> markdown https://medium.com/game-of-data/12-things-to-know-about-jupyter-notebook-markdown-3f6cef811707\n"
   ]
  },
  {
   "cell_type": "markdown",
   "id": "892e596f-a4ed-43d4-b5de-38387d3d1e18",
   "metadata": {},
   "source": []
  },
  {
   "cell_type": "markdown",
   "id": "26527e32-c41a-4d30-8974-17238513901d",
   "metadata": {},
   "source": [
    "NLP tutorials \n",
    "* https://towardsdatascience.com/how-to-use-nlp-in-python-a-practical-step-by-step-example-bd82ca2d2e1e\n",
    "* https://towardsdatascience.com/gentle-start-to-natural-language-processing-using-python-6e46c07addf3"
   ]
  },
  {
   "cell_type": "markdown",
   "id": "f633f9a8-6abf-4858-8579-5b4bee1b6462",
   "metadata": {},
   "source": [
    "NLP - Packages\n",
    "* https://towardsdatascience.com/4-top-python-packages-to-learn-nlp-cf7216730426\n",
    "* NLTK (Natural Language Toolkit) https://www.nltk.org/\n"
   ]
  },
  {
   "cell_type": "markdown",
   "id": "2bdb5727-43dc-4d4c-ac4c-ff4b31185adb",
   "metadata": {},
   "source": [
    "## HOMEWORK 1\n",
    "### Assignment 5"
   ]
  },
  {
   "cell_type": "code",
   "execution_count": 1,
   "id": "28b7e186-66b0-4c5b-ad02-c0846bd00e72",
   "metadata": {},
   "outputs": [],
   "source": [
    "#importing packages\n",
    "\n",
    "import re\n",
    "import string"
   ]
  },
  {
   "cell_type": "code",
   "execution_count": 2,
   "id": "f260a3a3-0461-43d3-b2ae-42cbdbd0a32a",
   "metadata": {},
   "outputs": [
    {
     "name": "stdout",
     "output_type": "stream",
     "text": [
      "!\"#$%&'()*+,-./:;<=>?@[\\]^_`{|}~\n"
     ]
    }
   ],
   "source": [
    "print(string.punctuation)"
   ]
  },
  {
   "cell_type": "code",
   "execution_count": 3,
   "id": "4690d977-3a3a-4066-87c4-a473c040e665",
   "metadata": {},
   "outputs": [
    {
     "name": "stdout",
     "output_type": "stream",
     "text": [
      "KBR said Friday the global economic downturn so far has\n",
      "had\n",
      "little effect on its business but warned some projects on its books\n",
      "could be in jeopardy if the headwinds persist into next year.\n",
      "\n",
      "\"With the economic outlook remaining uncertain, it is possible\n",
      "that\n",
      "customers may cancel or delay projects that are under way,\" said\n",
      "William\n",
      "Utt, chief executive of the Houston-based engineering and\n",
      "construction\n",
      "giant and government contractor.\n",
      "\n",
      "He did not predict how much of the company's $15.3billion in\n",
      "fu\n"
     ]
    }
   ],
   "source": [
    "with open(\"../../GitHub/practical_machine_learning_NLP/assignment/nyt_200811.txt\", \"r\") as f:\n",
    "    text = f.read()\n",
    "\n",
    "print(text[0:500])"
   ]
  },
  {
   "cell_type": "code",
   "execution_count": 4,
   "id": "2c919b9a-edf2-47cc-a572-664283ae95c0",
   "metadata": {},
   "outputs": [
    {
     "data": {
      "text/plain": [
       "'KBR said Friday the global economic downturn so far has\\nhad\\nlittle effect on its business but warned some projects on its books\\ncould be in jeopardy if the headwinds persist into next year.\\n\\n\"With the'"
      ]
     },
     "execution_count": 4,
     "metadata": {},
     "output_type": "execute_result"
    }
   ],
   "source": [
    "# remove punctuation\n",
    "\n",
    "for character in string.punctuation:\n",
    "    text_withoutpunct = text.replace(character, '')\n",
    "    \n",
    "# string --> strip.punctuation\n",
    "text_withoutpunct[0:200]"
   ]
  },
  {
   "cell_type": "code",
   "execution_count": 5,
   "id": "19dd91b2-0fb1-4d70-a27c-03e0a45fca79",
   "metadata": {},
   "outputs": [
    {
     "data": {
      "text/plain": [
       "'kbr said friday the global economic downturn so far has\\nhad\\nlittle effect on its business but warned some projects on its books\\ncould be in jeopardy if the headwinds persist into next year.\\n\\n\"with the economic outlook remaining uncertain, it is possible\\nthat\\ncustomers may cancel or delay projects that are under way,\" said\\nwilliam\\nutt, chief executive of the houston-based engineering and\\nconstruction\\ngiant and government contractor.\\n\\nhe did not predict how much of the company\\'s $15.3billion in\\nfu'"
      ]
     },
     "execution_count": 5,
     "metadata": {},
     "output_type": "execute_result"
    }
   ],
   "source": [
    "#lowercase \n",
    "\n",
    "text_lower = text_withoutpunct.lower()\n",
    "text_lower[0:500] "
   ]
  },
  {
   "cell_type": "code",
   "execution_count": 6,
   "id": "e7ecc6f0-c3ee-49e7-adc7-fc9355b625ca",
   "metadata": {},
   "outputs": [],
   "source": [
    "#lower case text\n"
   ]
  },
  {
   "cell_type": "markdown",
   "id": "3a7dd606-6ffe-43ed-a3d9-d317b6d5f693",
   "metadata": {},
   "source": [
    "## NLTK- Test"
   ]
  },
  {
   "cell_type": "code",
   "execution_count": 7,
   "id": "032b54d3-d0a8-428d-a472-4209f7ed5b68",
   "metadata": {},
   "outputs": [],
   "source": [
    "#NLTK-Test\n",
    "\n",
    "import nltk"
   ]
  },
  {
   "cell_type": "code",
   "execution_count": 8,
   "id": "d2de5865-ef04-4d98-899a-054cc70b0ec1",
   "metadata": {},
   "outputs": [
    {
     "name": "stderr",
     "output_type": "stream",
     "text": [
      "[nltk_data] Downloading package punkt to\n",
      "[nltk_data]     C:\\Users\\faufr\\AppData\\Roaming\\nltk_data...\n",
      "[nltk_data]   Package punkt is already up-to-date!\n"
     ]
    },
    {
     "data": {
      "text/plain": [
       "True"
      ]
     },
     "execution_count": 8,
     "metadata": {},
     "output_type": "execute_result"
    }
   ],
   "source": [
    "nltk.download('punkt')"
   ]
  },
  {
   "cell_type": "code",
   "execution_count": 12,
   "id": "980751f8-7574-4d02-81ef-91bec54a9043",
   "metadata": {},
   "outputs": [
    {
     "name": "stdout",
     "output_type": "stream",
     "text": [
      "('.', '``') 3651\n",
      "('of', 'the') 3091\n",
      "(',', \"''\") 2794\n",
      "('in', 'the') 2501\n",
      "('.', \"''\") 2407\n",
      "('.', 'The') 2193\n",
      "(',', 'the') 2092\n",
      "(',', 'and') 1924\n",
      "(',', 'a') 1303\n",
      "('to', 'the') 1172\n"
     ]
    }
   ],
   "source": [
    "#NLTK-Test\n",
    "nltk_tokens = nltk.word_tokenize(text) \n",
    "bigrams = list(nltk.bigrams(nltk_tokens))\n",
    "#bigrams\n",
    "frequence = nltk.FreqDist(bigrams)\n",
    "\n",
    "most_common = frequence.most_common(10)\n",
    "# 10 most_common\n",
    "for bigram, count in most_common:\n",
    "    print(bigram, count)\n",
    "    \n",
    "# DIFFERENT counts --> WHY?"
   ]
  },
  {
   "cell_type": "code",
   "execution_count": 10,
   "id": "2fd4bac4-4f8e-40f8-820f-9738f598bb37",
   "metadata": {},
   "outputs": [
    {
     "name": "stdout",
     "output_type": "stream",
     "text": [
      "('said', '.', '``') 648\n",
      "(',', \"''\", 'said') 631\n",
      "('.', '``', 'i') 593\n",
      "(',', \"''\", 'he') 447\n",
      "('.', '``', 'we') 418\n",
      "(\"''\", 'he', 'said') 354\n",
      "('he', 'said', '.') 303\n",
      "('.', '``', 'it') 281\n",
      "('.', \"''\", 'the') 247\n",
      "('.', '``', 'the') 242\n"
     ]
    }
   ],
   "source": [
    "#NLTK-Test: TRIGRAMS\n",
    "\n",
    "nltk_tokens_trigrams = nltk.word_tokenize(text_lower) \n",
    "trigrams = list(nltk.trigrams(nltk_tokens_trigrams))\n",
    "#bigrams\n",
    "frequence_tri = nltk.FreqDist(trigrams)\n",
    "\n",
    "most_common_trigrams = frequence_tri.most_common(10)\n",
    "# 10 most_common\n",
    "for bigram, count in most_common_trigrams:\n",
    "    print(bigram, count)\n",
    "    \n",
    "# DIFFERENT counts AGAIN --> WHY? --> Text still in uppercase! (CHANGE!)"
   ]
  },
  {
   "cell_type": "code",
   "execution_count": null,
   "id": "83d18111-3865-453e-9d2d-b47cc115c5f4",
   "metadata": {},
   "outputs": [],
   "source": []
  },
  {
   "cell_type": "code",
   "execution_count": 11,
   "id": "cb96f74e-881b-470b-b954-26e090000d1c",
   "metadata": {
    "collapsed": true,
    "jupyter": {
     "outputs_hidden": true
    },
    "tags": []
   },
   "outputs": [
    {
     "ename": "NameError",
     "evalue": "name 'expression' is not defined",
     "output_type": "error",
     "traceback": [
      "\u001b[1;31m---------------------------------------------------------------------------\u001b[0m",
      "\u001b[1;31mNameError\u001b[0m                                 Traceback (most recent call last)",
      "Input \u001b[1;32mIn [11]\u001b[0m, in \u001b[0;36m<cell line: 5>\u001b[1;34m()\u001b[0m\n\u001b[0;32m      3\u001b[0m tokens \u001b[38;5;241m=\u001b[39m tknzr\u001b[38;5;241m.\u001b[39mtokenize(text)\n\u001b[0;32m      4\u001b[0m nltk_text \u001b[38;5;241m=\u001b[39m nltk\u001b[38;5;241m.\u001b[39mText(tokens)\n\u001b[1;32m----> 5\u001b[0m nltk_text\u001b[38;5;241m.\u001b[39mconcordance(\u001b[43mexpression\u001b[49m\u001b[38;5;241m.\u001b[39mlower(), width\u001b[38;5;241m=\u001b[39m\u001b[38;5;241m120\u001b[39m, lines\u001b[38;5;241m=\u001b[39m\u001b[38;5;241m20\u001b[39m)\n",
      "\u001b[1;31mNameError\u001b[0m: name 'expression' is not defined"
     ]
    }
   ],
   "source": [
    "#DataScience_Course --> Textual_Analysis\n",
    "# Using NLTK\n",
    "tknzr = nltk.tokenize.WordPunctTokenizer()\n",
    "tokens = tknzr.tokenize(text)\n",
    "nltk_text = nltk.Text(tokens)\n",
    "nltk_text.concordance(expression.lower(), width=120, lines=20)"
   ]
  },
  {
   "cell_type": "code",
   "execution_count": null,
   "id": "8de28165-23c6-46b0-8044-22cf294ebcef",
   "metadata": {},
   "outputs": [],
   "source": []
  }
 ],
 "metadata": {
  "kernelspec": {
   "display_name": "Python 3 (ipykernel)",
   "language": "python",
   "name": "python3"
  },
  "language_info": {
   "codemirror_mode": {
    "name": "ipython",
    "version": 3
   },
   "file_extension": ".py",
   "mimetype": "text/x-python",
   "name": "python",
   "nbconvert_exporter": "python",
   "pygments_lexer": "ipython3",
   "version": "3.9.12"
  }
 },
 "nbformat": 4,
 "nbformat_minor": 5
}
