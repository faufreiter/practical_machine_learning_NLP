{
 "cells": [
  {
   "cell_type": "markdown",
   "id": "637b4aa0-6c19-4537-9944-28382053e3ef",
   "metadata": {},
   "source": [
    "# Trying NLP"
   ]
  },
  {
   "cell_type": "markdown",
   "id": "c12f863d-042a-46c9-a097-432e6de505d1",
   "metadata": {},
   "source": [
    "\n",
    "<span style='background :green' > **Jupyter Notebook**  </span> markdown https://medium.com/game-of-data/12-things-to-know-about-jupyter-notebook-markdown-3f6cef811707\n"
   ]
  },
  {
   "cell_type": "markdown",
   "id": "892e596f-a4ed-43d4-b5de-38387d3d1e18",
   "metadata": {},
   "source": []
  },
  {
   "cell_type": "markdown",
   "id": "26527e32-c41a-4d30-8974-17238513901d",
   "metadata": {},
   "source": [
    "NLP tutorials \n",
    "* https://towardsdatascience.com/how-to-use-nlp-in-python-a-practical-step-by-step-example-bd82ca2d2e1e\n",
    "* https://towardsdatascience.com/gentle-start-to-natural-language-processing-using-python-6e46c07addf3"
   ]
  },
  {
   "cell_type": "markdown",
   "id": "f633f9a8-6abf-4858-8579-5b4bee1b6462",
   "metadata": {},
   "source": [
    "NLP - Packages\n",
    "* https://towardsdatascience.com/4-top-python-packages-to-learn-nlp-cf7216730426\n",
    "* NLTK (Natural Language Toolkit) https://www.nltk.org/\n"
   ]
  },
  {
   "cell_type": "code",
   "execution_count": null,
   "id": "f260a3a3-0461-43d3-b2ae-42cbdbd0a32a",
   "metadata": {},
   "outputs": [],
   "source": []
  },
  {
   "cell_type": "markdown",
   "id": "2bdb5727-43dc-4d4c-ac4c-ff4b31185adb",
   "metadata": {},
   "source": [
    "## HOMEWORK 1\n",
    "### Assignment 5"
   ]
  },
  {
   "cell_type": "code",
   "execution_count": 13,
   "id": "4690d977-3a3a-4066-87c4-a473c040e665",
   "metadata": {},
   "outputs": [
    {
     "name": "stdout",
     "output_type": "stream",
     "text": [
      "KBR said Friday the global economic downturn so far has\n",
      "had\n",
      "little effect on its business but warned some projects on its books\n",
      "could be in jeopardy if the headwinds persist into next year.\n",
      "\n",
      "\"With the economic outlook remaining uncertain, it is possible\n",
      "that\n",
      "customers may cancel or delay projects that are under way,\" said\n",
      "William\n",
      "Utt, chief executive of the Houston-based engineering and\n",
      "construction\n",
      "giant and government contractor.\n",
      "\n",
      "He did not predict how much of the company's $15.3billion in\n",
      "fu\n"
     ]
    }
   ],
   "source": [
    "with open(\"../../GitHub/practical_machine_learning_NLP/assignment/nyt_200811.txt\", \"r\") as f:\n",
    "    text = f.read()\n",
    "\n",
    "print(text[0:500])"
   ]
  },
  {
   "cell_type": "code",
   "execution_count": null,
   "id": "13be9af5-860c-4e38-af21-e4bd9b615065",
   "metadata": {},
   "outputs": [],
   "source": []
  }
 ],
 "metadata": {
  "kernelspec": {
   "display_name": "Python 3 (ipykernel)",
   "language": "python",
   "name": "python3"
  },
  "language_info": {
   "codemirror_mode": {
    "name": "ipython",
    "version": 3
   },
   "file_extension": ".py",
   "mimetype": "text/x-python",
   "name": "python",
   "nbconvert_exporter": "python",
   "pygments_lexer": "ipython3",
   "version": "3.9.12"
  }
 },
 "nbformat": 4,
 "nbformat_minor": 5
}
